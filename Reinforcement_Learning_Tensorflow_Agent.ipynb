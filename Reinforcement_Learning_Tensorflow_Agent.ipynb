{
 "cells": [
  {
   "cell_type": "markdown",
   "metadata": {
    "colab_type": "text",
    "id": "tlGF-xcyawPW"
   },
   "source": [
    "# Deep Reinforcement learning with TF-Agents\n",
    "\n",
    "-----\n"
   ]
  },
  {
   "cell_type": "markdown",
   "metadata": {
    "colab_type": "text",
    "id": "s_I-j7kjbYoh"
   },
   "source": [
    "The goal of this project is to implement reinforcement agents with following setps:\n",
    "\n",
    "* Choose one environment from [OpenAI Gym](https://gym.openai.com/envs/#classic_control)\n",
    "\n",
    "* Choose one agent from [tf.agents library](https://github.com/tensorflow/agents)\n",
    "\n",
    "* Study and explain the policy learning method for the particular agent of your choice\n",
    "\n",
    "* Use the training procedure in the [tutorial](https://github.com/lydiahsu/AML_Fall_2019/blob/master/TF_agents_intro.ipynb) as a reference and implement your own agent\n",
    "\n",
    "* Show the performance of your agent by letting the trained agent to play several random games and compare the total rewards with the maximum possible rewards"
   ]
  },
  {
   "cell_type": "markdown",
   "metadata": {
    "colab_type": "text",
    "id": "yQNbrnm2YBwv"
   },
   "source": [
    "We have modified the goal to implement both Double Q-Network and Soft Actor Critic on three classic games with discrete action spaces. Since SAC doesn't already have an implementation in the discrete setting, we have written that ourselves \n",
    "\n"
   ]
  },
  {
   "cell_type": "markdown",
   "metadata": {
    "colab_type": "text",
    "id": "gsHHW9DlWnJ2"
   },
   "source": [
    "## Choosing agents from `tf.library`\n",
    "\n",
    "We chose __Deep Q Network (DQN)__ and __Soft Actor Critic(SAC)__ agents. In the following sections, we will implement the agents through `tf_agent` and run them on the `MountainCar-v0`, `Acrobot-v1` and `CartPole-v0` environments. Towards the end, we also tried SAC agent for the Atari Game: Boxing"
   ]
  },
  {
   "cell_type": "markdown",
   "metadata": {
    "colab_type": "text",
    "id": "NZku1_JjK_3a"
   },
   "source": [
    "### Setup \n",
    "\n",
    "install libraries with correct version of TensorFlow"
   ]
  },
  {
   "cell_type": "code",
   "execution_count": 0,
   "metadata": {
    "colab": {
     "base_uri": "https://localhost:8080/",
     "height": 428
    },
    "colab_type": "code",
    "id": "w7s-IzEhW01s",
    "outputId": "0e99a7ca-a79b-4c46-f4e4-989a8ff1a578"
   },
   "outputs": [
    {
     "name": "stdout",
     "output_type": "stream",
     "text": [
      "Requirement already satisfied: PILLOW in /usr/local/lib/python3.6/dist-packages (4.3.0)\n",
      "Requirement already satisfied: olefile in /usr/local/lib/python3.6/dist-packages (from PILLOW) (0.46)\n",
      "Collecting tf-agents-nightly\n",
      "\u001b[?25l  Downloading https://files.pythonhosted.org/packages/e9/e1/e65c1603835f3967da1ca7f1459981e39f2dbf3e3723a7cd567aa77de731/tf_agents_nightly-0.2.0.dev20191215-py2.py3-none-any.whl (848kB)\n",
      "\u001b[K     |████████████████████████████████| 849kB 2.8MB/s \n",
      "\u001b[?25hRequirement already satisfied: six>=1.10.0 in /usr/local/lib/python3.6/dist-packages (from tf-agents-nightly) (1.12.0)\n",
      "Collecting gin-config==0.1.3\n",
      "\u001b[?25l  Downloading https://files.pythonhosted.org/packages/8c/be/c984b1c8a7ba1c385b32bf39c7a225cd9f713d49705898309d01b60fd0e7/gin_config-0.1.3-py3-none-any.whl (43kB)\n",
      "\u001b[K     |████████████████████████████████| 51kB 9.7MB/s \n",
      "\u001b[?25hCollecting tfp-nightly\n",
      "\u001b[?25l  Downloading https://files.pythonhosted.org/packages/56/a4/4cca762fcda43a8c89f0886dfd516a300c0027d084360315ac5525569038/tfp_nightly-0.9.0.dev20191215-py2.py3-none-any.whl (3.0MB)\n",
      "\u001b[K     |████████████████████████████████| 3.0MB 51.8MB/s \n",
      "\u001b[?25hRequirement already satisfied: numpy>=1.13.3 in /usr/local/lib/python3.6/dist-packages (from tf-agents-nightly) (1.17.4)\n",
      "Requirement already satisfied: absl-py>=0.6.1 in /usr/local/lib/python3.6/dist-packages (from tf-agents-nightly) (0.8.1)\n",
      "Requirement already satisfied: gast>=0.2 in /usr/local/lib/python3.6/dist-packages (from tfp-nightly->tf-agents-nightly) (0.2.2)\n",
      "Requirement already satisfied: cloudpickle>=1.2.2 in /usr/local/lib/python3.6/dist-packages (from tfp-nightly->tf-agents-nightly) (1.2.2)\n",
      "Requirement already satisfied: decorator in /usr/local/lib/python3.6/dist-packages (from tfp-nightly->tf-agents-nightly) (4.4.1)\n",
      "Installing collected packages: gin-config, tfp-nightly, tf-agents-nightly\n",
      "  Found existing installation: gin-config 0.2.1\n",
      "    Uninstalling gin-config-0.2.1:\n",
      "      Successfully uninstalled gin-config-0.2.1\n",
      "Successfully installed gin-config-0.1.3 tf-agents-nightly-0.2.0.dev20191215 tfp-nightly-0.9.0.dev20191215\n",
      "TensorFlow 2.x selected.\n"
     ]
    }
   ],
   "source": [
    "!pip install PILLOW\n",
    "!pip install tf-agents-nightly\n",
    "try:\n",
    "  %%tensorflow_version 2.x\n",
    "except:\n",
    "  pass"
   ]
  },
  {
   "cell_type": "code",
   "execution_count": 0,
   "metadata": {
    "colab": {},
    "colab_type": "code",
    "id": "QezVTjuJMMQ4"
   },
   "outputs": [],
   "source": [
    "import tensorflow as tf\n",
    "\n",
    "from tf_agents.agents.dqn import dqn_agent\n",
    "from tf_agents.drivers import dynamic_step_driver, dynamic_episode_driver\n",
    "from tf_agents.environments import suite_gym\n",
    "from tf_agents.environments import tf_py_environment\n",
    "from tf_agents.eval import metric_utils\n",
    "from tf_agents.metrics import tf_metrics, py_metric, tf_py_metric\n",
    "from tf_agents.networks import q_network\n",
    "from tf_agents.policies import random_tf_policy\n",
    "from tf_agents.replay_buffers import tf_uniform_replay_buffer\n",
    "from tf_agents.trajectories import trajectory\n",
    "from tf_agents.utils import common\n",
    "\n",
    "import matplotlib.pyplot as plt\n",
    "from tqdm import tqdm\n",
    "import numpy as np"
   ]
  },
  {
   "cell_type": "markdown",
   "metadata": {
    "colab_type": "text",
    "id": "LNE0dSOEPilX"
   },
   "source": [
    "### Setup Environment\n",
    "We tried DQN on three environments, MountainCar-v0, Acrobot-v1 and CartPole-v0. To run the code for the others, just update the env_name variable here. For CartPole, the hyperparameters also require a small change. Please be mindful of that"
   ]
  },
  {
   "cell_type": "code",
   "execution_count": 0,
   "metadata": {
    "colab": {},
    "colab_type": "code",
    "id": "NnCloCRaPnY5"
   },
   "outputs": [],
   "source": [
    "env_name = 'MountainCar-v0'"
   ]
  },
  {
   "cell_type": "code",
   "execution_count": 0,
   "metadata": {
    "colab": {
     "base_uri": "https://localhost:8080/",
     "height": 139
    },
    "colab_type": "code",
    "id": "wkd2V9AaDLav",
    "outputId": "091b2cfa-c09d-4bef-8aff-08759eab4046"
   },
   "outputs": [
    {
     "name": "stdout",
     "output_type": "stream",
     "text": [
      "Observation Spec:\n",
      "BoundedArraySpec(shape=(2,), dtype=dtype('float32'), name='observation', minimum=[-1.2  -0.07], maximum=[0.6  0.07])\n",
      "Reward Spec:\n",
      "ArraySpec(shape=(), dtype=dtype('float32'), name='reward')\n",
      "Action Spec:\n",
      "BoundedArraySpec(shape=(), dtype=dtype('int64'), name='action', minimum=0, maximum=2)\n"
     ]
    }
   ],
   "source": [
    "train_py_env = suite_gym.load(env_name)\n",
    "\n",
    "print('Observation Spec:')\n",
    "print(train_py_env.time_step_spec().observation)\n",
    "print('Reward Spec:')\n",
    "print(train_py_env.time_step_spec().reward)\n",
    "print('Action Spec:')\n",
    "print(train_py_env.action_spec())"
   ]
  },
  {
   "cell_type": "code",
   "execution_count": 0,
   "metadata": {
    "colab": {},
    "colab_type": "code",
    "id": "BKhjp80GP_I9"
   },
   "outputs": [],
   "source": [
    "train_env = tf_py_environment.TFPyEnvironment(train_py_env)"
   ]
  },
  {
   "cell_type": "markdown",
   "metadata": {
    "colab_type": "text",
    "id": "QdInGznwKs0u"
   },
   "source": [
    "## Run DQN First"
   ]
  },
  {
   "cell_type": "markdown",
   "metadata": {
    "colab_type": "text",
    "id": "eO86cuJ9XtEW"
   },
   "source": [
    "### Hyperparameters\n",
    "\n",
    "#### The default parameters are set for MountainCar and Acrobot. For CartPole, we changed the batch_size to 64 and learning_rate to 1e-3. Everything else remains unchanged"
   ]
  },
  {
   "cell_type": "code",
   "execution_count": 0,
   "metadata": {
    "colab": {},
    "colab_type": "code",
    "id": "eswWQ7VQXyOJ"
   },
   "outputs": [],
   "source": [
    "num_iterations = 20000 # @param {type:\"integer\"}\n",
    "\n",
    "initial_collect_steps = 1000  # @param {type:\"integer\"} \n",
    "collect_steps_per_iteration = 1  # @param {type:\"integer\"}\n",
    "replay_buffer_max_length = 100000  # @param {type:\"integer\"}\n",
    "\n",
    "batch_size =   128# @param {type:\"integer\"}\n",
    "learning_rate = 1e-4  # @param {type:\"number\"}\n",
    "log_interval = 200  # @param {type:\"integer\"}\n",
    "\n",
    "num_eval_episodes = 10  # @param {type:\"integer\"}\n",
    "eval_interval = 1000  # @param {type:\"integer\"}"
   ]
  },
  {
   "cell_type": "markdown",
   "metadata": {
    "colab_type": "text",
    "id": "f5Wi7IaKqSL5"
   },
   "source": [
    "### Agent\n",
    "\n",
    "The algorithm used is __DQN__. The __DQN__ agent can be used in any environment which has a discrete action space. At the heart of a __DQN__ Agent is a `QNetwork`, a neural network model that can learn to predict `QValues` (expected returns) for all actions, given an observation from the environment.\n",
    "\n",
    "Use `tf_agents.networks.q_network` to create a `QNetwork`, passing in the `observation_spec`, `action_spec`, and a tuple describing the number and size of the model's hidden layers."
   ]
  },
  {
   "cell_type": "code",
   "execution_count": 0,
   "metadata": {
    "colab": {},
    "colab_type": "code",
    "id": "UjnBSSpzsdO-"
   },
   "outputs": [],
   "source": [
    "fc_layer_params = (100,)\n",
    "\n",
    "q_net = q_network.QNetwork(\n",
    "    train_env.observation_spec(),\n",
    "    train_env.action_spec(),\n",
    "    fc_layer_params=fc_layer_params\n",
    ")"
   ]
  },
  {
   "cell_type": "markdown",
   "metadata": {
    "colab_type": "text",
    "id": "WPPvDTc2xQ8p"
   },
   "source": [
    "Now use `tf_agents.dqn.dqn_agent` to instantiate a `DqnAgent`. In addition to the `time_step_spec`, `action_spec` and the QNetwork, the agent constructor also requires an optimizer (in this case, `AdamOptimizer`), a loss function, and an integer step counter."
   ]
  },
  {
   "cell_type": "code",
   "execution_count": 0,
   "metadata": {
    "colab": {},
    "colab_type": "code",
    "id": "NgUXHrYtygl7"
   },
   "outputs": [],
   "source": [
    "optimizer = tf.compat.v1.train.AdamOptimizer(learning_rate=learning_rate)\n",
    "\n",
    "train_step_counter = tf.Variable(0)\n",
    "\n",
    "dqn_agent = dqn_agent.DqnAgent(\n",
    "    train_env.time_step_spec(),\n",
    "    train_env.action_spec(),\n",
    "    q_network=q_net,\n",
    "    optimizer=optimizer,\n",
    "    td_errors_loss_fn=common.element_wise_squared_loss,\n",
    "    train_step_counter=train_step_counter\n",
    ")\n",
    "\n",
    "dqn_agent.initialize()"
   ]
  },
  {
   "cell_type": "markdown",
   "metadata": {
    "colab_type": "text",
    "id": "9nLeElAJ8Qon"
   },
   "source": [
    "### Replay Buffer\n",
    "\n",
    "The replay buffer keeps track of data collected from the environment. This tutorial uses `tf_agents.replay_buffers.tf_uniform_replay_buffer.TFUniformReplayBuffer`, as it is the most common. \n",
    "\n",
    "The constructor requires the specs for the data it will be collecting. This is available from the agent using the `collect_data_spec` method. The batch size and maximum buffer length are also required."
   ]
  },
  {
   "cell_type": "code",
   "execution_count": 0,
   "metadata": {
    "colab": {},
    "colab_type": "code",
    "id": "1ZBWss248SrB"
   },
   "outputs": [],
   "source": [
    "dqn_replay_buffer = tf_uniform_replay_buffer.TFUniformReplayBuffer(\n",
    "    data_spec=dqn_agent.collect_data_spec,\n",
    "    batch_size=train_env.batch_size,\n",
    "    max_length=replay_buffer_max_length)"
   ]
  },
  {
   "cell_type": "markdown",
   "metadata": {
    "colab_type": "text",
    "id": "kgyPU9_K8gwS"
   },
   "source": [
    "### Data Collection with customized metric\n",
    "\n",
    "Now execute the random policy in the environment for a few steps, recording the data in the replay buffer."
   ]
  },
  {
   "cell_type": "code",
   "execution_count": 0,
   "metadata": {
    "colab": {},
    "colab_type": "code",
    "id": "hRAY6XSrMoec"
   },
   "outputs": [],
   "source": [
    "class MaxEpisodeScoreMetric(py_metric.PyStepMetric):\n",
    "  def __init__(self, name='MaxEpisodeScoreMetric'):\n",
    "    super(py_metric.PyStepMetric, self).__init__(name)\n",
    "    self.rewards = []\n",
    "    self.discounts = []\n",
    "    self.max_discounted_reward = None\n",
    "    self.reset()\n",
    "  def reset(self):\n",
    "    self.rewards = []\n",
    "    self.discounts = []\n",
    "    self.max_discounted_reward = None\n",
    "  def call(self, trajectory):\n",
    "    self.rewards += trajectory.reward\n",
    "    self.discounts += trajectory.discount\n",
    "    \n",
    "    if(trajectory.is_last()):      \n",
    "      adjusted_discounts = [1.0] + self.discounts # because a step has its value + the discount of the NEXT step (Bellman equation)\n",
    "      adjusted_discounts = adjusted_discounts[:-1] # dropping the discount of the last step because it is not followed by a next step, so the value is useless\n",
    "      discounted_reward = np.sum(np.multiply(self.rewards, adjusted_discounts))\n",
    "      #print(self.rewards, adjusted_discounts, discounted_reward)\n",
    "      \n",
    "      if self.max_discounted_reward == None:\n",
    "        self.max_discounted_reward = discounted_reward\n",
    "      \n",
    "      if discounted_reward > self.max_discounted_reward:\n",
    "        self.max_discounted_reward = discounted_reward\n",
    "        \n",
    "      self.rewards = []\n",
    "      self.discounts = []\n",
    "  def result(self):\n",
    "    return self.max_discounted_reward\n",
    "\n",
    "class TFMaxEpisodeScoreMetric(tf_py_metric.TFPyMetric):\n",
    "\n",
    "  def __init__(self, name='MaxEpisodeScoreMetric', dtype=tf.float32):\n",
    "    py_metric = MaxEpisodeScoreMetric()\n",
    "\n",
    "    super(TFMaxEpisodeScoreMetric, self).__init__(\n",
    "        py_metric=py_metric, name=name, dtype=dtype)"
   ]
  },
  {
   "cell_type": "code",
   "execution_count": 0,
   "metadata": {
    "colab": {},
    "colab_type": "code",
    "id": "kkRGzPRt8rjQ"
   },
   "outputs": [],
   "source": [
    "def collect_training_data(agent, replay_buffer):\n",
    "  dynamic_step_driver.DynamicStepDriver(\n",
    "      train_env,\n",
    "      agent.collect_policy,\n",
    "      observers=[replay_buffer.add_batch],\n",
    "      num_steps=initial_collect_steps).run()\n",
    "\n",
    "def train_agent(agent, replay_buffer):\n",
    "  dataset = replay_buffer.as_dataset(\n",
    "      sample_batch_size=batch_size,\n",
    "      num_steps=2)\n",
    "\n",
    "  iterator = iter(dataset)\n",
    "\n",
    "  loss = None\n",
    "  for _ in tqdm(range(num_iterations)):\n",
    "    trajectories, _ = next(iterator)\n",
    "    loss = agent.train(experience=trajectories)\n",
    "  \n",
    "  print('\\nTraining loss: ', loss.loss.numpy())\n",
    "  return loss.loss.numpy()"
   ]
  },
  {
   "cell_type": "code",
   "execution_count": 0,
   "metadata": {
    "colab": {},
    "colab_type": "code",
    "id": "9DM0wHL3XWpF"
   },
   "outputs": [],
   "source": [
    "def evaluate_agent(agent):\n",
    "  max_score = TFMaxEpisodeScoreMetric() \n",
    "  observers = [max_score]\n",
    "  driver = dynamic_episode_driver.DynamicEpisodeDriver(\n",
    "      train_env, agent.policy, observers, num_episodes=num_eval_episodes)\n",
    "\n",
    "  final_time_step, policy_state = driver.run()\n",
    "\n",
    "  print('Max test score:', max_score.result().numpy())\n",
    "  return max_score.result().numpy()"
   ]
  },
  {
   "cell_type": "markdown",
   "metadata": {
    "colab_type": "text",
    "id": "XHeZ7O5k-PuI"
   },
   "source": [
    "### Training the agent\n",
    "\n",
    "Two thing must happen during the training loop:\n",
    "\n",
    "-   collect data from the environment\n",
    "-   use that data to train the agent's neural network(s)\n",
    "\n",
    "This example also periodicially evaluates the policy and prints the current score.\n",
    "\n",
    "The following will take ~5 minutes to run."
   ]
  },
  {
   "cell_type": "code",
   "execution_count": 0,
   "metadata": {
    "colab": {
     "base_uri": "https://localhost:8080/",
     "height": 34
    },
    "colab_type": "code",
    "id": "xyilPNyTAQ-d",
    "outputId": "39a64e56-ff14-4698-ff92-dc36b04a5ccb"
   },
   "outputs": [
    {
     "name": "stdout",
     "output_type": "stream",
     "text": [
      "Found GPU at: /device:GPU:0\n"
     ]
    }
   ],
   "source": [
    "device_name = tf.test.gpu_device_name()\n",
    "if device_name != '/device:GPU:0':\n",
    "  raise SystemError('GPU device not found')\n",
    "print('Found GPU at: {}'.format(device_name))"
   ]
  },
  {
   "cell_type": "code",
   "execution_count": 0,
   "metadata": {
    "colab": {
     "base_uri": "https://localhost:8080/",
     "height": 867
    },
    "colab_type": "code",
    "id": "kvZjyvrkXqWT",
    "outputId": "f5be298a-0cde-4c69-b548-c57e7c2fe023"
   },
   "outputs": [
    {
     "name": "stdout",
     "output_type": "stream",
     "text": [
      "Step  1\n"
     ]
    },
    {
     "name": "stderr",
     "output_type": "stream",
     "text": [
      "100%|██████████| 20000/20000 [08:20<00:00, 39.98it/s]\n"
     ]
    },
    {
     "name": "stdout",
     "output_type": "stream",
     "text": [
      "\n",
      "Training loss:  7.656824\n",
      "Max test score: -200.0\n",
      "Step  2\n"
     ]
    },
    {
     "name": "stderr",
     "output_type": "stream",
     "text": [
      "100%|██████████| 20000/20000 [08:13<00:00, 40.50it/s]\n"
     ]
    },
    {
     "name": "stdout",
     "output_type": "stream",
     "text": [
      "\n",
      "Training loss:  15.141324\n",
      "Max test score: -200.0\n",
      "Step  3\n"
     ]
    },
    {
     "name": "stderr",
     "output_type": "stream",
     "text": [
      "100%|██████████| 20000/20000 [08:16<00:00, 40.26it/s]\n"
     ]
    },
    {
     "name": "stdout",
     "output_type": "stream",
     "text": [
      "\n",
      "Training loss:  25.84581\n",
      "Max test score: -200.0\n",
      "Step  4\n"
     ]
    },
    {
     "name": "stderr",
     "output_type": "stream",
     "text": [
      "100%|██████████| 20000/20000 [08:22<00:00, 39.78it/s]\n"
     ]
    },
    {
     "name": "stdout",
     "output_type": "stream",
     "text": [
      "\n",
      "Training loss:  25.196678\n",
      "Max test score: -200.0\n",
      "Step  5\n"
     ]
    },
    {
     "name": "stderr",
     "output_type": "stream",
     "text": [
      "100%|██████████| 20000/20000 [08:21<00:00, 42.15it/s]\n"
     ]
    },
    {
     "name": "stdout",
     "output_type": "stream",
     "text": [
      "\n",
      "Training loss:  28.91012\n",
      "Max test score: -200.0\n",
      "Step  6\n"
     ]
    },
    {
     "name": "stderr",
     "output_type": "stream",
     "text": [
      "100%|██████████| 20000/20000 [08:19<00:00, 40.02it/s]\n"
     ]
    },
    {
     "name": "stdout",
     "output_type": "stream",
     "text": [
      "\n",
      "Training loss:  24.963537\n",
      "Max test score: -200.0\n",
      "Step  7\n"
     ]
    },
    {
     "name": "stderr",
     "output_type": "stream",
     "text": [
      "100%|██████████| 20000/20000 [08:21<00:00, 39.92it/s]\n"
     ]
    },
    {
     "name": "stdout",
     "output_type": "stream",
     "text": [
      "\n",
      "Training loss:  17.815933\n",
      "Max test score: -200.0\n",
      "Step  8\n"
     ]
    },
    {
     "name": "stderr",
     "output_type": "stream",
     "text": [
      "100%|██████████| 20000/20000 [08:20<00:00, 39.96it/s]\n"
     ]
    },
    {
     "name": "stdout",
     "output_type": "stream",
     "text": [
      "\n",
      "Training loss:  29.956268\n",
      "Max test score: -200.0\n",
      "Step  9\n"
     ]
    },
    {
     "name": "stderr",
     "output_type": "stream",
     "text": [
      "100%|██████████| 20000/20000 [08:27<00:00, 39.43it/s]\n"
     ]
    },
    {
     "name": "stdout",
     "output_type": "stream",
     "text": [
      "\n",
      "Training loss:  57.86882\n",
      "Max test score: -200.0\n",
      "Step  10\n"
     ]
    },
    {
     "name": "stderr",
     "output_type": "stream",
     "text": [
      "100%|██████████| 20000/20000 [08:19<00:00, 40.07it/s]\n"
     ]
    },
    {
     "name": "stdout",
     "output_type": "stream",
     "text": [
      "\n",
      "Training loss:  1048.5605\n",
      "Max test score: -200.0\n"
     ]
    }
   ],
   "source": [
    "dqn_training_loss = []\n",
    "dqn_max_test_score = []\n",
    "\n",
    "with tf.device('/device:GPU:0'):\n",
    "  for i in range(10):\n",
    "    print('Step ', i+1)\n",
    "    collect_training_data(dqn_agent, dqn_replay_buffer)\n",
    "    dqn_training_loss.append(train_agent(dqn_agent, dqn_replay_buffer))\n",
    "    dqn_max_test_score.append(evaluate_agent(dqn_agent))"
   ]
  },
  {
   "cell_type": "code",
   "execution_count": 0,
   "metadata": {
    "colab": {
     "base_uri": "https://localhost:8080/",
     "height": 312
    },
    "colab_type": "code",
    "id": "24JAe3VjNCG1",
    "outputId": "dfc131ca-e444-4bcd-8afa-94950b9361c3"
   },
   "outputs": [
    {
     "data": {
      "text/plain": [
       "<matplotlib.legend.Legend at 0x7f7a2676d550>"
      ]
     },
     "execution_count": 44,
     "metadata": {
      "tags": []
     },
     "output_type": "execute_result"
    },
    {
     "data": {
      "image/png": "[encoded data removed]",
      "text/plain": [
       "<Figure size 432x288 with 1 Axes>"
      ]
     },
     "metadata": {
      "tags": []
     },
     "output_type": "display_data"
    }
   ],
   "source": [
    "plt.plot(np.arange(1, 11, step = 1), dqn_training_loss, c = 'orange', label = 'Training loss')\n",
    "plt.plot(np.arange(1, 11, step = 1), dqn_max_test_score, c = 'blue', label = 'Max test score')\n",
    "#plt.axhline(1.715, c = 'gray', linestyle='dashed', label = 'Max possible score')\n",
    "plt.xlabel('Iteration')\n",
    "plt.grid(True)\n",
    "plt.title('Training loss and max test score')\n",
    "plt.xticks(np.arange(1, 11))\n",
    "plt.legend()"
   ]
  },
  {
   "cell_type": "markdown",
   "metadata": {
    "colab_type": "text",
    "id": "38gFz3JrZ_Ih"
   },
   "source": [
    "Exporting results to a PKL file so that we can plot them together later"
   ]
  },
  {
   "cell_type": "code",
   "execution_count": 0,
   "metadata": {
    "colab": {},
    "colab_type": "code",
    "id": "Qu_WVELF3Gnp"
   },
   "outputs": [],
   "source": [
    "import pickle\n",
    "with open('DQN-Loss-MountainCar.pkl', 'wb') as f:\n",
    "  pickle.dump(dqn_training_loss, f)"
   ]
  },
  {
   "cell_type": "markdown",
   "metadata": {
    "colab_type": "text",
    "id": "T7fDhviJrhz4"
   },
   "source": [
    "## *SAC Agent*"
   ]
  },
  {
   "cell_type": "markdown",
   "metadata": {
    "colab_type": "text",
    "id": "Ywsi3RCkWkDM"
   },
   "source": [
    "## Implementation of SAC for discrete action space\n",
    "\n",
    "* Below is an implementation of SAC in discrete action space in `tf.agent` according to the algorithm proposed in [P. Christodoulou 2019](https://arxiv.org/abs/1910.07207)\n",
    "\n",
    "* The code is inspired by the pytorch implementation of the above algorithm found [here](https://github.com/p-christ/Deep-Reinforcement-Learning-Algorithms-with-PyTorch/blob/master/agents/actor_critic_agents/SAC_Discrete.py)"
   ]
  },
  {
   "cell_type": "code",
   "execution_count": 0,
   "metadata": {
    "colab": {},
    "colab_type": "code",
    "id": "c941UnWedpEK"
   },
   "outputs": [],
   "source": [
    "import collections\n",
    "import numpy as np\n",
    "import tensorflow as tf\n",
    "import tensorflow_probability as tfp\n",
    "\n",
    "from tf_agents.agents import tf_agent\n",
    "from tf_agents.policies import actor_policy\n",
    "from tf_agents.trajectories import trajectory\n",
    "from tf_agents.utils import common\n",
    "from tf_agents.utils import eager_utils\n",
    "from tf_agents.utils import nest_utils"
   ]
  },
  {
   "cell_type": "markdown",
   "metadata": {
    "colab_type": "text",
    "id": "exUP_TluaUWN"
   },
   "source": [
    "Writing policy and computing losses"
   ]
  },
  {
   "cell_type": "code",
   "execution_count": 0,
   "metadata": {
    "colab": {},
    "colab_type": "code",
    "id": "ZkPG-UFcXfSu"
   },
   "outputs": [],
   "source": [
    "SacLossInfo = collections.namedtuple(\n",
    "    'SacLossInfo', ('critic_loss', 'actor_loss', 'alpha_loss'))\n",
    "\n",
    "class SacDisAgent(tf_agent.TFAgent):\n",
    "\n",
    "  def __init__(self,\n",
    "               time_step_spec,\n",
    "               action_spec,\n",
    "               critic_network,\n",
    "               actor_network,\n",
    "               actor_optimizer,\n",
    "               critic_optimizer,\n",
    "               alpha_optimizer,\n",
    "               target_critic_network=None,\n",
    "               target_critic_network_2=None,\n",
    "               actor_policy_ctor=actor_policy.ActorPolicy,\n",
    "               target_update_tau=1.0,\n",
    "               target_update_period=1,\n",
    "               td_errors_loss_fn=tf.math.squared_difference,\n",
    "               gamma=1.0,\n",
    "               reward_scale_factor=1.0,\n",
    "               initial_log_alpha=0.0,\n",
    "               gradient_clipping=None,\n",
    "               debug_summaries=False,\n",
    "               summarize_grads_and_vars=False,\n",
    "               train_step_counter=None,\n",
    "               name=None):\n",
    "    tf.Module.__init__(self, name=name)\n",
    "\n",
    "    flat_action_spec = tf.nest.flatten(action_spec)\n",
    "    for spec in flat_action_spec:\n",
    "      if not spec.dtype.is_integer:\n",
    "        raise TypeError(\n",
    "            'SacDisAgent is only for discrete action space. Use SacAgent for continuous'\n",
    "        )\n",
    "\n",
    "    self._critic_network_1 = critic_network\n",
    "    self._critic_network_1.create_variables()\n",
    "    self._target_critic_network_1 = (\n",
    "        common.maybe_copy_target_network_with_checks(self._critic_network_1,\n",
    "                                                     target_critic_network,\n",
    "                                                     'TargetCriticNetwork1'))\n",
    "    self._critic_network_2 = critic_network.copy(name=\"CriticNetwork2\")\n",
    "    self._critic_network_2.create_variables()\n",
    "    self._target_critic_network_2 = (\n",
    "        common.maybe_copy_target_network_with_checks(self._critic_network_2,\n",
    "                                                     target_critic_network_2,\n",
    "                                                     'TargetCriticNetwork2'))\n",
    "\n",
    "    self._actor_network = actor_network\n",
    "    self._actor_network.create_variables()\n",
    "\n",
    "    policy = actor_policy_ctor(\n",
    "        time_step_spec = time_step_spec,\n",
    "        action_spec = action_spec,\n",
    "        actor_network = self._actor_network,\n",
    "        training=False\n",
    "    )\n",
    "\n",
    "    self._train_policy = actor_policy_ctor(\n",
    "        time_step_spec = time_step_spec,\n",
    "        action_spec = action_spec,\n",
    "        actor_network = self._actor_network,\n",
    "        training=True\n",
    "    )\n",
    "\n",
    "    self._log_alpha = common.create_variable(\n",
    "        'initial_log_alpha',\n",
    "        initial_value = initial_log_alpha,\n",
    "        dtype = tf.float32,\n",
    "        trainable=True\n",
    "    )\n",
    "\n",
    "    flat_action_spec = tf.nest.flatten(action_spec)\n",
    "    target_entropy = -np.sum([\n",
    "                              np.product(single_spec.shape.as_list())\n",
    "                              for single_spec in flat_action_spec])\n",
    "\n",
    "    self._target_update_tau = target_update_tau\n",
    "    self._target_update_period = target_update_period\n",
    "    self._actor_optimizer = actor_optimizer\n",
    "    self._critic_optimizer = critic_optimizer\n",
    "    self._alpha_optimizer = alpha_optimizer\n",
    "    self._td_errors_loss_fn = td_errors_loss_fn\n",
    "    self._gamma = gamma\n",
    "    self._reward_scale_factor = reward_scale_factor\n",
    "    self._target_entropy = target_entropy\n",
    "    self._gradient_clipping = gradient_clipping\n",
    "    self._debug_summaries = debug_summaries\n",
    "    self._summarize_grads_and_vars = summarize_grads_and_vars\n",
    "    self._update_target = self._get_target_updater(tau=self._target_update_tau, period=self._target_update_period)\n",
    "\n",
    "    train_sequence_length = 2 if not critic_network.state_spec else None\n",
    "\n",
    "    super(SacDisAgent, self).__init__(\n",
    "        time_step_spec,\n",
    "        action_spec,\n",
    "        policy=policy,\n",
    "        collect_policy=policy,\n",
    "        train_sequence_length=train_sequence_length,\n",
    "        debug_summaries=debug_summaries,\n",
    "        summarize_grads_and_vars=summarize_grads_and_vars,\n",
    "        train_step_counter=train_step_counter)\n",
    "    \n",
    "  def _initialize(self):\n",
    "    \"Operation that initialize the agent which copies all the parameters into the Q-network\"\n",
    "    common.soft_variables_update(\n",
    "        self._critic_network_1.variables,\n",
    "        self._target_critic_network_1.variables,\n",
    "        tau=1.0)\n",
    "    common.soft_variables_update(\n",
    "        self._critic_network_2.variables,\n",
    "        self._target_critic_network_2.variables,\n",
    "        tau=1.0)\n",
    "    \n",
    "  def _experience_to_transitions(self, experience):\n",
    "    transitions = trajectory.to_transition(experience)\n",
    "    time_steps, policy_steps, next_time_steps = transitions\n",
    "    actions = policy_steps.action\n",
    "    if (self.train_sequence_length is not None and\n",
    "        self.train_sequence_length == 2):\n",
    "      # Sequence empty time dimension if critic network is stateless.\n",
    "      time_steps, actions, next_time_steps = tf.nest.map_structure(\n",
    "          lambda t: tf.squeeze(t, axis=1),\n",
    "          (time_steps, actions, next_time_steps))\n",
    "    return time_steps, actions, next_time_steps\n",
    "    \n",
    "  def _apply_gradients(self, gradients, variables, optimizer):\n",
    "    grads_and_vars = list(zip(gradients, variables))\n",
    "    if self._gradient_clipping is not None:\n",
    "      grads_and_vars = eager_utils.clip_gradient_norms(grads_and_vars,\n",
    "                                                        self._gradient_clipping)\n",
    "    if self._summarize_grads_and_vars:\n",
    "      eager_utils.add_variables_summaries(grads_and_vars,\n",
    "                                        self.train_step_counter)\n",
    "      eager_utils.add_gradients_summaries(grads_and_vars,\n",
    "                                        self.train_step_counter)\n",
    "    optimizer.apply_gradients(grads_and_vars)\n",
    "\n",
    "  def _get_target_updater(self, tau=1.0, period=1):\n",
    "    \"\"\"Performs a soft update of the target network parameters.\n",
    "    For each weight w_s in the original network, and its corresponding\n",
    "    weight w_t in the target network, a soft update is:\n",
    "    w_t = (1- tau) x w_t + tau x ws\n",
    "    Args:\n",
    "      tau: A float scalar in [0, 1]. Default `tau=1.0` means hard update.\n",
    "      period: Step interval at which the target network is updated.\n",
    "    Returns:\n",
    "      A callable that performs a soft update of the target network parameters.\n",
    "    \"\"\"\n",
    "    with tf.name_scope('update_target'):\n",
    "\n",
    "      def update():\n",
    "        \"\"\"Update target network.\"\"\"\n",
    "        critic_update_1 = common.soft_variables_update(\n",
    "            self._critic_network_1.variables,\n",
    "            self._target_critic_network_1.variables,\n",
    "            tau,\n",
    "            tau_non_trainable=1.0)\n",
    "        critic_update_2 = common.soft_variables_update(\n",
    "            self._critic_network_2.variables,\n",
    "            self._target_critic_network_2.variables,\n",
    "            tau,\n",
    "            tau_non_trainable=1.0)\n",
    "        return tf.group(critic_update_1, critic_update_2)\n",
    "      return common.Periodically(update, period, 'update_targets')\n",
    "\n",
    "    \n",
    "  def _actions_and_log_probs(self, time_steps):\n",
    "    \"get actions and corresponding probabilities from policy.\"\n",
    "    \n",
    "    batch_size = nest_utils.get_outer_shape(time_steps, self.time_step_spec)[0]\n",
    "    policy_state = self._train_policy.get_initial_state(batch_size)\n",
    "    action_distribution = self._train_policy.distribution(\n",
    "        time_steps, policy_state = policy_state\n",
    "    ).action\n",
    "\n",
    "    actions = tf.nest.map_structure(lambda d: d.sample(), action_distribution)\n",
    "    log_prob = common.log_probability(action_distribution, actions, self.action_spec)\n",
    "    prob = tf.exp(log_prob)\n",
    "\n",
    "    #tf.print(\"Probabilities: \", log_prob, prob, sep=\">>>>\\n\")\n",
    "\n",
    "    return actions, log_prob, prob\n",
    "\n",
    "  def critic_loss(self,\n",
    "                  time_steps,\n",
    "                  actions,\n",
    "                  next_time_steps,\n",
    "                  td_errors_loss_fn,\n",
    "                  gamma = 1.0,\n",
    "                  reward_scale_factor = 1.0,\n",
    "                  weights = None):\n",
    "    \"Computes the critic loss for training\"\n",
    "\n",
    "    with tf.name_scope('critic_loss'):\n",
    "      tf.nest.assert_same_structure(actions, self.action_spec)\n",
    "      tf.nest.assert_same_structure(time_steps, self.time_step_spec)\n",
    "      tf.nest.assert_same_structure(next_time_steps, self.time_step_spec)\n",
    "\n",
    "      next_actions, next_log_prob, next_prob = self._actions_and_log_probs(next_time_steps)\n",
    "      target_input = (next_time_steps.observation, next_actions)\n",
    "      target_q_values1, _ = self._target_critic_network_1(\n",
    "          target_input, next_time_steps.step_type, training=False)\n",
    "      target_q_values2, _ = self._target_critic_network_2(\n",
    "          target_input, next_time_steps.step_type, training=False)\n",
    "      target_q_values = (\n",
    "          tf.minimum(target_q_values1, target_q_values2) -\n",
    "          tf.exp(self._log_alpha) * next_log_prob)\n",
    "      target_q_values = next_prob * target_q_values\n",
    "\n",
    "      td_targets = tf.stop_gradient(\n",
    "          reward_scale_factor * next_time_steps.reward +\n",
    "          gamma * next_time_steps.discount * target_q_values)\n",
    "\n",
    "      pred_input = (time_steps.observation, actions)\n",
    "      pred_td_targets1, _ = self._critic_network_1(\n",
    "          pred_input, time_steps.step_type, training=True)\n",
    "      pred_td_targets2, _ = self._critic_network_2(\n",
    "          pred_input, time_steps.step_type, training=True)\n",
    "      critic_loss1 = td_errors_loss_fn(td_targets, pred_td_targets1)\n",
    "      critic_loss2 = td_errors_loss_fn(td_targets, pred_td_targets2)\n",
    "      critic_loss = critic_loss1 + critic_loss2\n",
    "\n",
    "      if weights is not None:\n",
    "        critic_loss *= weights\n",
    "\n",
    "      if nest_utils.is_batched_nested_tensors(time_steps, self.time_step_spec, num_outer_dims=2):\n",
    "        # Sum over the time dimension.\n",
    "        critic_loss = tf.reduce_sum(input_tensor=critic_loss, axis=1)\n",
    "      # Take the mean across the batch.\n",
    "      critic_loss = tf.reduce_mean(input_tensor=critic_loss)\n",
    "\n",
    "      if self._debug_summaries:\n",
    "        td_errors1 = td_targets - pred_td_targets1\n",
    "        td_errors2 = td_targets - pred_td_targets2\n",
    "        td_errors = tf.concat([td_errors1, td_errors2], axis=0)\n",
    "        common.generate_tensor_summaries('td_errors', td_errors,\n",
    "                                         self.train_step_counter)\n",
    "        common.generate_tensor_summaries('td_targets', td_targets,\n",
    "                                         self.train_step_counter)\n",
    "        common.generate_tensor_summaries('pred_td_targets1', pred_td_targets1,\n",
    "                                         self.train_step_counter)\n",
    "        common.generate_tensor_summaries('pred_td_targets2', pred_td_targets2,\n",
    "                                         self.train_step_counter)\n",
    "\n",
    "\n",
    "      return critic_loss\n",
    "\n",
    "  def actor_loss(self, time_steps, weights=None):\n",
    "    \"Computes the actor loss for training\"\n",
    "    with tf.name_scope('actor_loss'):\n",
    "      tf.nest.assert_same_structure(time_steps, self.time_step_spec)\n",
    "\n",
    "      actions, log_prob, prob = self._actions_and_log_probs(time_steps)\n",
    "      target_input = (time_steps.observation, actions)\n",
    "      target_q_values1, _ = self._critic_network_1(target_input, time_steps.step_type, training=False)\n",
    "      target_q_values2, _ = self._critic_network_2(target_input, time_steps.step_type, training=False)\n",
    "      target_q_values = tf.minimum(target_q_values1, target_q_values2)\n",
    "      actor_loss = tf.exp(self._log_alpha) * log_prob - target_q_values\n",
    "      actor_loss = actor_loss * prob\n",
    "      if nest_utils.is_batched_nested_tensors(time_steps, self.time_step_spec, num_outer_dims=2):\n",
    "        actor_loss = tf.reduce_sum(input_tensor=actor_loss, axis=1)\n",
    "      if weights is not None:\n",
    "        actor_loss *= weights\n",
    "      actor_loss = tf.reduce_mean(input_tensor=actor_loss)\n",
    "\n",
    "\n",
    "      if self._debug_summaries:\n",
    "        common.generate_tensor_summaries('actor_loss', actor_loss,\n",
    "                                         self.train_step_counter)\n",
    "        common.generate_tensor_summaries('actions', actions,\n",
    "                                         self.train_step_counter)\n",
    "        common.generate_tensor_summaries('log_pi', log_prob,\n",
    "                                         self.train_step_counter)\n",
    "        tf.compat.v2.summary.scalar(\n",
    "            name='entropy_avg',\n",
    "            data=-tf.reduce_mean(input_tensor=log_prob),\n",
    "            step=self.train_step_counter)\n",
    "        common.generate_tensor_summaries('target_q_values', target_q_values,\n",
    "                                         self.train_step_counter)\n",
    "        batch_size = nest_utils.get_outer_shape(\n",
    "            time_steps, self._time_step_spec)[0]\n",
    "        policy_state = self._train_policy.get_initial_state(batch_size)\n",
    "        action_distribution = self._train_policy.distribution(\n",
    "            time_steps, policy_state).action\n",
    "        if isinstance(action_distribution, tfp.distributions.Normal):\n",
    "          common.generate_tensor_summaries('act_mean', action_distribution.loc,\n",
    "                                           self.train_step_counter)\n",
    "          common.generate_tensor_summaries(\n",
    "              'act_stddev', action_distribution.scale, self.train_step_counter)\n",
    "        elif isinstance(action_distribution, tfp.distributions.Categorical):\n",
    "          common.generate_tensor_summaries(\n",
    "              'act_mode', action_distribution.mode(), self.train_step_counter)\n",
    "        try:\n",
    "          common.generate_tensor_summaries('entropy_action',\n",
    "                                           action_distribution.entropy(),\n",
    "                                           self.train_step_counter)\n",
    "        except NotImplementedError:\n",
    "          pass  # Some distributions do not have an analytic entropy.\n",
    "\n",
    "      return actor_loss\n",
    "\n",
    "  def alpha_loss(self, time_steps, weights=None):\n",
    "    with tf.name_scope('alpha_loss'):\n",
    "      tf.nest.assert_same_structure(time_steps, self.time_step_spec)\n",
    "\n",
    "      actions, log_prob, log_pi = self._actions_and_log_probs(time_steps)\n",
    "      log_pi = tf.reduce_sum(input_tensor = log_prob * prob)\n",
    "      entropy_diff = tf.stop_gradient(-log_pi - self._target_entropy)\n",
    "      alpha_loss = (self._log_alpha * entropy_diff)\n",
    "      if nest_utils.is_batched_nested_tensors(time_steps, self.time_step_spec, num_outer_dims=2):\n",
    "        alpha_loss = tf.reduce_sum(input_tensor=alpha_loss, axis=1)\n",
    "      if weights is not None:\n",
    "        alpha_loss *= weights\n",
    "\n",
    "      alpha_loss = tf.reduce_mean(input_tensor=alpha_loss)\n",
    "      return alpha_loss\n",
    "\n",
    "  def _train(self, experience, weights):\n",
    "    \"trains with the provided batched experience\"\n",
    "\n",
    "    time_steps, actions, next_time_steps = self._experience_to_transitions(experience)\n",
    "\n",
    "    trainable_critic_variables = (\n",
    "        self._critic_network_1.trainable_variables +\n",
    "        self._critic_network_2.trainable_variables\n",
    "    )\n",
    "\n",
    "    \n",
    "    with tf.GradientTape(watch_accessed_variables=False) as tape:\n",
    "      assert trainable_critic_variables, ('No trainable critic variables to optimize.')\n",
    "\n",
    "      tape.watch(trainable_critic_variables)\n",
    "      critic_loss = self.critic_loss(\n",
    "          time_steps,\n",
    "          actions,\n",
    "          next_time_steps,\n",
    "          td_errors_loss_fn = self._td_errors_loss_fn,\n",
    "          gamma = self._gamma,\n",
    "          reward_scale_factor = self._reward_scale_factor,\n",
    "          weights = weights\n",
    "      )\n",
    "    tf.debugging.check_numerics(critic_loss, 'Critic loss is inf or nan.')\n",
    "    critic_grads = tape.gradient(critic_loss, trainable_critic_variables)\n",
    "    self._apply_gradients(critic_grads, trainable_critic_variables, self._critic_optimizer)\n",
    "\n",
    "    trainable_actor_variables = self._actor_network.trainable_variables\n",
    "    with tf.GradientTape(watch_accessed_variables=False) as tape:\n",
    "      assert trainable_actor_variables, ('No trainable actor variables to optimize.')\n",
    "\n",
    "      tape.watch(trainable_actor_variables)\n",
    "      actor_loss = self.actor_loss(time_steps, weights=weights)\n",
    "    tf.debugging.check_numerics(actor_loss, 'Actor loss is inf or nan.')\n",
    "    actor_grads = tape.gradient(actor_loss, trainable_actor_variables)\n",
    "    self._apply_gradients(actor_grads, trainable_actor_variables, self._actor_optimizer)\n",
    "\n",
    "    alpha_variable = [self._log_alpha]\n",
    "    with tf.GradientTape(watch_accessed_variables=False) as tape:\n",
    "      assert alpha_variable, (\"No alpha variable to optimize.\")\n",
    "      tape.watch(alpha_variable)\n",
    "      alpha_loss = self.alpha_loss(time_steps, weights=weights)\n",
    "    tf.debugging.check_numerics(alpha_loss, 'Alpha lost is inf or nan.')\n",
    "    alpha_grads = tape.gradient(alpha_loss, alpha_variable)\n",
    "    self._apply_gradients(alpha_grads, alpha_variable, self._alpha_optimizer)\n",
    "\n",
    "    with tf.name_scope(\"Losses\"):\n",
    "      tf.compat.v2.summary.scalar(name='critic_loss', data=critic_loss, step=self.train_step_counter)\n",
    "      tf.compat.v2.summary.scalar(name='actor_loss', data=actor_loss, step=self.train_step_counter)\n",
    "      tf.compat.v2.summary.scalar(name='alpha_loss', data=alpha_loss, step=self.train_step_counter)\n",
    "\n",
    "    self.train_step_counter.assign_add(1)\n",
    "    self._update_target()\n",
    "\n",
    "    total_loss = critic_loss + actor_loss + alpha_loss\n",
    "\n",
    "    extra = SacLossInfo(\n",
    "        critic_loss = critic_loss,\n",
    "        actor_loss = actor_loss,\n",
    "        alpha_loss = alpha_loss\n",
    "    )\n",
    "\n",
    "    return tf_agent.LossInfo(loss = total_loss, extra=extra)\n",
    "\n",
    "\n",
    "      \n"
   ]
  },
  {
   "cell_type": "markdown",
   "metadata": {
    "colab_type": "text",
    "id": "TQFVmFDB4ppK"
   },
   "source": [
    "\n",
    "\n",
    "```\n",
    "`# This is formatted as code`\n",
    "```\n",
    "\n",
    "### Start to apply the SAC agent in the chosen environments\n",
    "\n",
    "Trying to compare the performance of SAC discrete agent against the DQN. Start with importing the libraries"
   ]
  },
  {
   "cell_type": "code",
   "execution_count": 0,
   "metadata": {
    "colab": {},
    "colab_type": "code",
    "id": "TO3ZPb9l5FtM"
   },
   "outputs": [],
   "source": [
    "from tf_agents.drivers import dynamic_step_driver, dynamic_episode_driver\n",
    "from tf_agents.environments import suite_gym, tf_py_environment\n",
    "from tf_agents.replay_buffers import tf_uniform_replay_buffer\n",
    "from tf_agents.trajectories import trajectory\n",
    "from tf_agents.agents.ddpg import critic_network\n",
    "from tf_agents.metrics import tf_metrics, py_metric, tf_py_metric\n",
    "from tf_agents.networks import actor_distribution_network\n",
    "from tqdm import tqdm"
   ]
  },
  {
   "cell_type": "markdown",
   "metadata": {
    "colab_type": "text",
    "id": "-WQCLIok6Gzb"
   },
   "source": [
    "### Hyperparameters"
   ]
  },
  {
   "cell_type": "markdown",
   "metadata": {
    "colab_type": "text",
    "id": "UiWEbrcmb-gr"
   },
   "source": [
    "To run the other environments, please update the env_name to Acrobot-v1 or MountainCar-v0"
   ]
  },
  {
   "cell_type": "code",
   "execution_count": 0,
   "metadata": {
    "colab": {},
    "colab_type": "code",
    "id": "RI5AkdnU59ic"
   },
   "outputs": [],
   "source": [
    "env_name = \"CartPole-v0\" # @param {type:\"string\"}\n",
    "num_iterations = 20000 # @param {type:\"integer\"}\n",
    "\n",
    "initial_collect_steps = 1000 # @param {type:\"integer\"} \n",
    "collect_steps_per_iteration = 1 # @param {type:\"integer\"}\n",
    "replay_buffer_capacity = 1000000 # @param {type:\"integer\"}\n",
    "\n",
    "batch_size = 256 # @param {type:\"integer\"}\n",
    "\n",
    "critic_learning_rate = 3e-4 # @param {type:\"number\"}\n",
    "actor_learning_rate = 3e-4 # @param {type:\"number\"}\n",
    "alpha_learning_rate = 3e-4 # @param {type:\"number\"}\n",
    "target_update_tau = 0.005 # @param {type:\"number\"}\n",
    "target_update_period = 1 # @param {type:\"number\"}\n",
    "gamma = 0.99 # @param {type:\"number\"}\n",
    "reward_scale_factor = 1.0 # @param {type:\"number\"}\n",
    "gradient_clipping = None # @param\n",
    "\n",
    "actor_fc_layer_params = (256, 256)\n",
    "critic_joint_fc_layer_params = (256, 256)\n",
    "\n",
    "log_interval = 5000 # @param {type:\"integer\"}\n",
    "\n",
    "num_eval_episodes = 30 # @param {type:\"integer\"}\n",
    "eval_interval = 1000 # @param {type:\"integer\"}"
   ]
  },
  {
   "cell_type": "markdown",
   "metadata": {
    "colab_type": "text",
    "id": "XrKPy8NatgYS"
   },
   "source": [
    "##### We will implement the same hyperparameters for Acrobot Environment"
   ]
  },
  {
   "cell_type": "markdown",
   "metadata": {
    "colab_type": "text",
    "id": "XrmxP4vU6QDd"
   },
   "source": [
    "### Import the environments"
   ]
  },
  {
   "cell_type": "code",
   "execution_count": 0,
   "metadata": {
    "colab": {
     "base_uri": "https://localhost:8080/",
     "height": 139
    },
    "colab_type": "code",
    "id": "ewLeCHzr6eCU",
    "outputId": "c6a14d40-9657-43c5-ae80-ebfa8a72252f"
   },
   "outputs": [
    {
     "name": "stdout",
     "output_type": "stream",
     "text": [
      "Observation Spec:\n",
      "BoundedArraySpec(shape=(2,), dtype=dtype('float32'), name='observation', minimum=[-1.2  -0.07], maximum=[0.6  0.07])\n",
      "Reward Spec:\n",
      "ArraySpec(shape=(), dtype=dtype('float32'), name='reward')\n",
      "Action Spec:\n",
      "BoundedArraySpec(shape=(1,), dtype=dtype('float32'), name='action', minimum=-1.0, maximum=1.0)\n"
     ]
    }
   ],
   "source": [
    "train_py_env = suite_gym.load(env_name)\n",
    "\n",
    "print('Observation Spec:')\n",
    "print(train_py_env.time_step_spec().observation)\n",
    "print('Reward Spec:')\n",
    "print(train_py_env.time_step_spec().reward)\n",
    "print('Action Spec:')\n",
    "print(train_py_env.action_spec())"
   ]
  },
  {
   "cell_type": "code",
   "execution_count": 0,
   "metadata": {
    "colab": {},
    "colab_type": "code",
    "id": "VXv5wtPU7WJH"
   },
   "outputs": [],
   "source": [
    "train_env = tf_py_environment.TFPyEnvironment(train_py_env)"
   ]
  },
  {
   "cell_type": "markdown",
   "metadata": {
    "colab_type": "text",
    "id": "g1pJNxB87LgT"
   },
   "source": [
    "### Agent\n",
    "\n",
    "* Establish the Critic neural network and Actor neural network\n",
    "* Initailize the SAC discrete agent"
   ]
  },
  {
   "cell_type": "code",
   "execution_count": 0,
   "metadata": {
    "colab": {},
    "colab_type": "code",
    "id": "9K921iKI7N-l"
   },
   "outputs": [],
   "source": [
    "observation_spec = train_env.observation_spec()\n",
    "action_spec = train_env.action_spec()\n",
    "critic_net = critic_network.CriticNetwork(\n",
    "    (observation_spec, action_spec),\n",
    "    observation_fc_layer_params=None,\n",
    "    action_fc_layer_params=None,\n",
    "    joint_fc_layer_params=critic_joint_fc_layer_params)\n",
    "\n",
    "\n",
    "actor_net = actor_distribution_network.ActorDistributionNetwork(\n",
    "    observation_spec,\n",
    "    action_spec,\n",
    "    fc_layer_params=actor_fc_layer_params)"
   ]
  },
  {
   "cell_type": "code",
   "execution_count": 0,
   "metadata": {
    "colab": {},
    "colab_type": "code",
    "id": "8QXYfAvv9YqI"
   },
   "outputs": [],
   "source": [
    "global_step = tf.compat.v1.train.get_or_create_global_step()\n",
    "sac_dis_agent = SacDisAgent(\n",
    "    train_env.time_step_spec(),\n",
    "    action_spec,\n",
    "    actor_network=actor_net,\n",
    "    critic_network=critic_net,\n",
    "    actor_optimizer=tf.compat.v1.train.AdamOptimizer(\n",
    "        learning_rate=actor_learning_rate),\n",
    "    critic_optimizer=tf.compat.v1.train.AdamOptimizer(\n",
    "        learning_rate=critic_learning_rate),\n",
    "    alpha_optimizer=tf.compat.v1.train.AdamOptimizer(\n",
    "        learning_rate=alpha_learning_rate),\n",
    "    target_update_tau=target_update_tau,\n",
    "    target_update_period=target_update_period,\n",
    "    td_errors_loss_fn=tf.compat.v1.losses.mean_squared_error,\n",
    "    gamma=gamma,\n",
    "    reward_scale_factor=reward_scale_factor,\n",
    "    gradient_clipping=gradient_clipping,\n",
    "    debug_summaries = True,\n",
    "    train_step_counter=global_step)\n",
    "sac_dis_agent.initialize()"
   ]
  },
  {
   "cell_type": "code",
   "execution_count": 0,
   "metadata": {
    "colab": {
     "base_uri": "https://localhost:8080/",
     "height": 88
    },
    "colab_type": "code",
    "id": "KpqPU-cWT3uP",
    "outputId": "5fead847-5d6f-4380-c0a3-e9b826848365"
   },
   "outputs": [
    {
     "data": {
      "text/plain": [
       "Trajectory(step_type=TensorSpec(shape=(), dtype=tf.int32, name='step_type'), observation=BoundedTensorSpec(shape=(4,), dtype=tf.float32, name='observation', minimum=array([-4.8000002e+00, -3.4028235e+38, -4.1887903e-01, -3.4028235e+38],\n",
       "      dtype=float32), maximum=array([4.8000002e+00, 3.4028235e+38, 4.1887903e-01, 3.4028235e+38],\n",
       "      dtype=float32)), action=BoundedTensorSpec(shape=(), dtype=tf.int64, name='action', minimum=array(0), maximum=array(1)), policy_info=(), next_step_type=TensorSpec(shape=(), dtype=tf.int32, name='step_type'), reward=TensorSpec(shape=(), dtype=tf.float32, name='reward'), discount=BoundedTensorSpec(shape=(), dtype=tf.float32, name='discount', minimum=array(0., dtype=float32), maximum=array(1., dtype=float32)))"
      ]
     },
     "execution_count": 22,
     "metadata": {
      "tags": []
     },
     "output_type": "execute_result"
    }
   ],
   "source": [
    "sac_dis_agent.collect_data_spec"
   ]
  },
  {
   "cell_type": "markdown",
   "metadata": {
    "colab_type": "text",
    "id": "kJqvgowsJCyN"
   },
   "source": [
    "### Define replay buffer and trainning process"
   ]
  },
  {
   "cell_type": "code",
   "execution_count": 0,
   "metadata": {
    "colab": {},
    "colab_type": "code",
    "id": "Qp4XDcmxI6-A"
   },
   "outputs": [],
   "source": [
    "replay_buffer = tf_uniform_replay_buffer.TFUniformReplayBuffer(\n",
    "    sac_dis_agent.collect_data_spec,\n",
    "    batch_size=train_env.batch_size,\n",
    "    max_length=replay_buffer_capacity\n",
    ")\n",
    "\n",
    "def collect_training_data():\n",
    "  dynamic_step_driver.DynamicStepDriver(\n",
    "      train_env,\n",
    "      sac_dis_agent.collect_policy,\n",
    "      observers=[replay_buffer.add_batch],\n",
    "      num_steps=initial_collect_steps).run()\n",
    "\n",
    "def train_agent():\n",
    "  dataset = replay_buffer.as_dataset(\n",
    "      sample_batch_size=batch_size,\n",
    "      num_steps=2)\n",
    "\n",
    "  iterator = iter(dataset)\n",
    "\n",
    "  loss = None\n",
    "  for _ in tqdm(range(num_iterations)):\n",
    "    trajectories, _ = next(iterator)\n",
    "    loss = sac_dis_agent.train(experience=trajectories)\n",
    "  \n",
    "  print('\\nTraining loss: ', loss.loss.numpy())\n",
    "  print('\\nTraining loss break down: Critic Loss {}, Actor Loss {}, Alpha Loss {}'.format(loss.extra.critic_loss.numpy(), loss.extra.actor_loss.numpy(), loss.extra.alpha_loss.numpy() ))\n",
    "  return loss.loss.numpy()"
   ]
  },
  {
   "cell_type": "markdown",
   "metadata": {
    "colab_type": "text",
    "id": "eOgoniF_JNFb"
   },
   "source": [
    "### Define evaluation function with previously defined metrics"
   ]
  },
  {
   "cell_type": "code",
   "execution_count": 0,
   "metadata": {
    "colab": {},
    "colab_type": "code",
    "id": "kKm5CiJ_JYeQ"
   },
   "outputs": [],
   "source": [
    "def evaluate_agent():\n",
    "  max_score = TFMaxEpisodeScoreMetric() \n",
    "  observers = [max_score]\n",
    "  driver = dynamic_episode_driver.DynamicEpisodeDriver(\n",
    "      train_env, sac_dis_agent.policy, observers, num_episodes=num_eval_episodes)\n",
    "\n",
    "  final_time_step, policy_state = driver.run()\n",
    "\n",
    "  print('Max test score:', max_score.result().numpy())\n",
    "  return max_score.result().numpy()"
   ]
  },
  {
   "cell_type": "markdown",
   "metadata": {
    "colab_type": "text",
    "id": "ZvbU6XQQJfdX"
   },
   "source": [
    "### Start training with GPU"
   ]
  },
  {
   "cell_type": "code",
   "execution_count": 0,
   "metadata": {
    "colab": {},
    "colab_type": "code",
    "id": "MZEH3nL4SIPE"
   },
   "outputs": [],
   "source": [
    "import pickle"
   ]
  },
  {
   "cell_type": "code",
   "execution_count": 0,
   "metadata": {
    "colab": {
     "base_uri": "https://localhost:8080/",
     "height": 496
    },
    "colab_type": "code",
    "id": "S-bbM7kFJaiF",
    "outputId": "f16086c9-95ac-4d65-db99-455c1cc39927"
   },
   "outputs": [
    {
     "name": "stdout",
     "output_type": "stream",
     "text": [
      "Step  1\n"
     ]
    },
    {
     "name": "stderr",
     "output_type": "stream",
     "text": [
      "100%|██████████| 20000/20000 [16:08<00:00, 20.66it/s]\n"
     ]
    },
    {
     "name": "stdout",
     "output_type": "stream",
     "text": [
      "\n",
      "Training loss:  1668162200.0\n",
      "\n",
      "Training loss break down: Critic Loss 1668415360.0, Actor Loss -253155.6875, Alpha Loss -27.56578254699707\n",
      "Max test score: 39.949234\n",
      "Step  2\n"
     ]
    },
    {
     "name": "stderr",
     "output_type": "stream",
     "text": [
      "100%|██████████| 20000/20000 [16:00<00:00, 20.80it/s]\n"
     ]
    },
    {
     "name": "stdout",
     "output_type": "stream",
     "text": [
      "\n",
      "Training loss:  5921013500000.0\n",
      "\n",
      "Training loss break down: Critic Loss 5921048100864.0, Actor Loss -34847228.0, Alpha Loss -62.44685363769531\n",
      "Max test score: 41.5313\n",
      "Step  3\n"
     ]
    },
    {
     "name": "stderr",
     "output_type": "stream",
     "text": [
      "100%|██████████| 20000/20000 [16:06<00:00, 20.62it/s]\n"
     ]
    },
    {
     "name": "stdout",
     "output_type": "stream",
     "text": [
      "\n",
      "Training loss:  185252740000000.0\n",
      "\n",
      "Training loss break down: Critic Loss 185252911775744.0, Actor Loss -160268736.0, Alpha Loss -99.24573516845703\n",
      "Max test score: 58.562542\n",
      "Step  4\n"
     ]
    },
    {
     "name": "stderr",
     "output_type": "stream",
     "text": [
      "100%|██████████| 20000/20000 [16:04<00:00, 20.74it/s]\n"
     ]
    },
    {
     "name": "stdout",
     "output_type": "stream",
     "text": [
      "\n",
      "Training loss:  1229401800000000.0\n",
      "\n",
      "Training loss break down: Critic Loss 1229402176225280.0, Actor Loss -422640672.0, Alpha Loss -138.65367126464844\n"
     ]
    }
   ],
   "source": [
    "training_loss = []\n",
    "max_test_score = []\n",
    "\n",
    "with tf.device('/device:GPU:0'):\n",
    "  for i in range(10):\n",
    "    print('Step ', i+1)\n",
    "    collect_training_data()\n",
    "    training_loss.append(train_agent())\n",
    "    max_test_score.append(evaluate_agent())\n",
    "  \n",
    "with open('MountCar_training_loss.pkl', 'wb') as f:\n",
    "  pickle.dump(training_loss, f)\n",
    "\n",
    "with open('MountCar_max_test_score.pkl', 'wb') as f2:\n",
    "  pickle.dump(max_test_score, f2)\n",
    "\n",
    "from google.colab import files\n",
    "files.download('MountCar_training_loss.pkl')\n",
    "files.download('MountCar_max_test_score.pkl')\n"
   ]
  },
  {
   "cell_type": "markdown",
   "metadata": {
    "colab_type": "text",
    "id": "mT7VR7qKJpxc"
   },
   "source": [
    "### Performance plot"
   ]
  },
  {
   "cell_type": "code",
   "execution_count": 0,
   "metadata": {
    "colab": {},
    "colab_type": "code",
    "id": "BCvEgNECBWk3"
   },
   "outputs": [],
   "source": [
    "import matplotlib.pyplot as plt"
   ]
  },
  {
   "cell_type": "code",
   "execution_count": 0,
   "metadata": {
    "colab": {
     "base_uri": "https://localhost:8080/",
     "height": 312
    },
    "colab_type": "code",
    "id": "fQsowY50JpbZ",
    "outputId": "25385cf3-eff7-4e17-e212-6990e7027ea5"
   },
   "outputs": [
    {
     "data": {
      "text/plain": [
       "<matplotlib.legend.Legend at 0x7f7d66157470>"
      ]
     },
     "execution_count": 40,
     "metadata": {
      "tags": []
     },
     "output_type": "execute_result"
    },
    {
     "data": {
      "image/png": "[encoded data removed]",
      "text/plain": [
       "<Figure size 432x288 with 1 Axes>"
      ]
     },
     "metadata": {
      "tags": []
     },
     "output_type": "display_data"
    }
   ],
   "source": [
    "plt.plot(np.arange(1, 21, step = 1), training_loss, c = 'orange', label = 'Training loss')\n",
    "plt.plot(np.arange(1, 21, step = 1), max_test_score, c = 'blue', label = 'Max test score')\n",
    "#plt.axhline(1.715, c = 'gray', linestyle='dashed', label = 'Max possible score')\n",
    "plt.xlabel('Iteration')\n",
    "plt.grid(True)\n",
    "plt.title('Training loss and max test score')\n",
    "plt.xticks(np.arange(1, 21))\n",
    "plt.legend()"
   ]
  },
  {
   "cell_type": "markdown",
   "metadata": {
    "colab_type": "text",
    "id": "q7ceZaQCbmUi"
   },
   "source": [
    "## Apply SAC discrete on Atari games"
   ]
  },
  {
   "cell_type": "markdown",
   "metadata": {
    "colab_type": "text",
    "id": "KxXLQrnjb0Rx"
   },
   "source": [
    "### Hyperparameters"
   ]
  },
  {
   "cell_type": "code",
   "execution_count": 0,
   "metadata": {
    "colab": {},
    "colab_type": "code",
    "id": "hpm6rPi7btaQ"
   },
   "outputs": [],
   "source": [
    "env_name = 'Boxing-ram-v0' # @param {type:\"string\"}\n",
    "num_iterations = 10000 # @param {type:\"integer\"}\n",
    "\n",
    "initial_collect_steps = 1000 # @param {type:\"integer\"} \n",
    "collect_steps_per_iteration = 1 # @param {type:\"integer\"}\n",
    "replay_buffer_capacity = 1000000 # @param {type:\"integer\"}\n",
    "\n",
    "batch_size = 256 # @param {type:\"integer\"}\n",
    "\n",
    "critic_learning_rate = 3e-4 # @param {type:\"number\"}\n",
    "actor_learning_rate = 3e-4 # @param {type:\"number\"}\n",
    "alpha_learning_rate = 3e-4 # @param {type:\"number\"}\n",
    "target_update_tau = 0.005 # @param {type:\"number\"}\n",
    "target_update_period = 1 # @param {type:\"number\"}\n",
    "gamma = 0.99 # @param {type:\"number\"}\n",
    "reward_scale_factor = 1.0 # @param {type:\"number\"}\n",
    "gradient_clipping = None # @param\n",
    "\n",
    "actor_fc_layer_params = (256, 256)\n",
    "critic_joint_fc_layer_params = (256, 256)\n",
    "\n",
    "log_interval = 5000 # @param {type:\"integer\"}\n",
    "\n",
    "num_eval_episodes = 30 # @param {type:\"integer\"}\n",
    "eval_interval = 10 # @param {type:\"integer\"}"
   ]
  },
  {
   "cell_type": "code",
   "execution_count": 0,
   "metadata": {
    "colab": {
     "base_uri": "https://localhost:8080/",
     "height": 119
    },
    "colab_type": "code",
    "id": "5hGgJKunckWA",
    "outputId": "13b668a0-edcc-4d09-c55c-312a52d6dc29"
   },
   "outputs": [
    {
     "name": "stdout",
     "output_type": "stream",
     "text": [
      "Observation Spec:\n",
      "BoundedArraySpec(shape=(210, 160, 3), dtype=dtype('uint8'), name='observation', minimum=0, maximum=255)\n",
      "Reward Spec:\n",
      "ArraySpec(shape=(), dtype=dtype('float32'), name='reward')\n",
      "Action Spec:\n",
      "BoundedArraySpec(shape=(), dtype=dtype('int64'), name='action', minimum=0, maximum=17)\n"
     ]
    }
   ],
   "source": [
    "train_py_env = suite_gym.load(env_name)\n",
    "\n",
    "print('Observation Spec:')\n",
    "print(train_py_env.time_step_spec().observation)\n",
    "print('Reward Spec:')\n",
    "print(train_py_env.time_step_spec().reward)\n",
    "print('Action Spec:')\n",
    "print(train_py_env.action_spec())"
   ]
  },
  {
   "cell_type": "code",
   "execution_count": 0,
   "metadata": {
    "colab": {},
    "colab_type": "code",
    "id": "XxbSxkNsdBGZ"
   },
   "outputs": [],
   "source": [
    "train_env = tf_py_environment.TFPyEnvironment(train_py_env)"
   ]
  },
  {
   "cell_type": "code",
   "execution_count": 0,
   "metadata": {
    "colab": {},
    "colab_type": "code",
    "id": "cF2Oi6lKdCjS"
   },
   "outputs": [],
   "source": [
    "global_step = tf.compat.v1.train.get_or_create_global_step()\n",
    "sac_dis_agent = SacDisAgent(\n",
    "    train_env.time_step_spec(),\n",
    "    action_spec,\n",
    "    actor_network=actor_net,\n",
    "    critic_network=critic_net,\n",
    "    actor_optimizer=tf.compat.v1.train.AdamOptimizer(\n",
    "        learning_rate=actor_learning_rate),\n",
    "    critic_optimizer=tf.compat.v1.train.AdamOptimizer(\n",
    "        learning_rate=critic_learning_rate),\n",
    "    alpha_optimizer=tf.compat.v1.train.AdamOptimizer(\n",
    "        learning_rate=alpha_learning_rate),\n",
    "    target_update_tau=target_update_tau,\n",
    "    target_update_period=target_update_period,\n",
    "    td_errors_loss_fn=tf.compat.v1.losses.mean_squared_error,\n",
    "    gamma=gamma,\n",
    "    reward_scale_factor=reward_scale_factor,\n",
    "    gradient_clipping=gradient_clipping,\n",
    "    debug_summaries = True,\n",
    "    train_step_counter=global_step)\n",
    "sac_dis_agent.initialize()"
   ]
  },
  {
   "cell_type": "code",
   "execution_count": 0,
   "metadata": {
    "colab": {
     "base_uri": "https://localhost:8080/",
     "height": 1000
    },
    "colab_type": "code",
    "id": "Scpk-57wdU7X",
    "outputId": "729d4995-130a-45a7-e347-5af3f6706fdd"
   },
   "outputs": [
    {
     "name": "stdout",
     "output_type": "stream",
     "text": [
      "Step  1\n"
     ]
    },
    {
     "name": "stderr",
     "output_type": "stream",
     "text": [
      "100%|██████████| 10000/10000 [20:43<00:00,  8.14it/s]\n"
     ]
    },
    {
     "name": "stdout",
     "output_type": "stream",
     "text": [
      "\n",
      "Training loss:  -0.40372062\n",
      "\n",
      "Training loss break down: Critic Loss 0.00446342071518302, Actor Loss 2.5914273262023926, Alpha Loss -2.9996113777160645\n",
      "Max test score: -56.0\n",
      "Step  2\n"
     ]
    },
    {
     "name": "stderr",
     "output_type": "stream",
     "text": [
      "100%|██████████| 10000/10000 [21:17<00:00,  7.91it/s]\n"
     ]
    },
    {
     "name": "stdout",
     "output_type": "stream",
     "text": [
      "\n",
      "Training loss:  -2.6257899\n",
      "\n",
      "Training loss break down: Critic Loss 0.00833912380039692, Actor Loss 3.364788055419922, Alpha Loss -5.998917102813721\n",
      "Max test score: -56.0\n",
      "Step  3\n"
     ]
    },
    {
     "name": "stderr",
     "output_type": "stream",
     "text": [
      "100%|██████████| 10000/10000 [21:02<00:00,  8.43it/s]\n"
     ]
    },
    {
     "name": "stdout",
     "output_type": "stream",
     "text": [
      "\n",
      "Training loss:  -5.7176065\n",
      "\n",
      "Training loss break down: Critic Loss 0.013141793198883533, Actor Loss 3.269061803817749, Alpha Loss -8.999810218811035\n",
      "Max test score: -56.0\n",
      "Step  4\n"
     ]
    },
    {
     "name": "stderr",
     "output_type": "stream",
     "text": [
      "100%|██████████| 10000/10000 [20:59<00:00,  8.10it/s]\n"
     ]
    },
    {
     "name": "stdout",
     "output_type": "stream",
     "text": [
      "\n",
      "Training loss:  -8.677102\n",
      "\n",
      "Training loss break down: Critic Loss 0.007756383623927832, Actor Loss 3.3190255165100098, Alpha Loss -12.003884315490723\n",
      "Max test score: -56.0\n",
      "Step  5\n"
     ]
    },
    {
     "name": "stderr",
     "output_type": "stream",
     "text": [
      "100%|██████████| 10000/10000 [21:11<00:00,  7.85it/s]\n"
     ]
    },
    {
     "name": "stdout",
     "output_type": "stream",
     "text": [
      "\n",
      "Training loss:  -11.835255\n",
      "\n",
      "Training loss break down: Critic Loss 0.003748764283955097, Actor Loss 3.168954849243164, Alpha Loss -15.00795841217041\n",
      "Max test score: -56.0\n",
      "Step  6\n"
     ]
    },
    {
     "name": "stderr",
     "output_type": "stream",
     "text": [
      "100%|██████████| 10000/10000 [20:56<00:00,  8.40it/s]\n"
     ]
    },
    {
     "name": "stdout",
     "output_type": "stream",
     "text": [
      "\n",
      "Training loss:  -15.0280485\n",
      "\n",
      "Training loss break down: Critic Loss 0.002143287332728505, Actor Loss 2.9754538536071777, Alpha Loss -18.005645751953125\n",
      "Max test score: -56.0\n",
      "Step  7\n"
     ]
    },
    {
     "name": "stderr",
     "output_type": "stream",
     "text": [
      " 93%|█████████▎| 9265/10000 [19:42<01:28,  8.30it/s]"
     ]
    },
    {
     "ename": "KeyboardInterrupt",
     "evalue": "ignored",
     "output_type": "error",
     "traceback": [
      "\u001b[0;31m---------------------------------------------------------------------------\u001b[0m",
      "\u001b[0;31mKeyboardInterrupt\u001b[0m                         Traceback (most recent call last)",
      "\u001b[0;32m<ipython-input-18-a1cc3b128412>\u001b[0m in \u001b[0;36m<module>\u001b[0;34m()\u001b[0m\n\u001b[1;32m      6\u001b[0m     \u001b[0mprint\u001b[0m\u001b[0;34m(\u001b[0m\u001b[0;34m'Step '\u001b[0m\u001b[0;34m,\u001b[0m \u001b[0mi\u001b[0m\u001b[0;34m+\u001b[0m\u001b[0;36m1\u001b[0m\u001b[0;34m)\u001b[0m\u001b[0;34m\u001b[0m\u001b[0;34m\u001b[0m\u001b[0m\n\u001b[1;32m      7\u001b[0m     \u001b[0mcollect_training_data\u001b[0m\u001b[0;34m(\u001b[0m\u001b[0;34m)\u001b[0m\u001b[0;34m\u001b[0m\u001b[0;34m\u001b[0m\u001b[0m\n\u001b[0;32m----> 8\u001b[0;31m     \u001b[0mtraining_loss\u001b[0m\u001b[0;34m.\u001b[0m\u001b[0mappend\u001b[0m\u001b[0;34m(\u001b[0m\u001b[0mtrain_agent\u001b[0m\u001b[0;34m(\u001b[0m\u001b[0;34m)\u001b[0m\u001b[0;34m)\u001b[0m\u001b[0;34m\u001b[0m\u001b[0;34m\u001b[0m\u001b[0m\n\u001b[0m\u001b[1;32m      9\u001b[0m     \u001b[0mmax_test_score\u001b[0m\u001b[0;34m.\u001b[0m\u001b[0mappend\u001b[0m\u001b[0;34m(\u001b[0m\u001b[0mevaluate_agent\u001b[0m\u001b[0;34m(\u001b[0m\u001b[0;34m)\u001b[0m\u001b[0;34m)\u001b[0m\u001b[0;34m\u001b[0m\u001b[0;34m\u001b[0m\u001b[0m\n",
      "\u001b[0;32m<ipython-input-16-3d7840dfd1f7>\u001b[0m in \u001b[0;36mtrain_agent\u001b[0;34m()\u001b[0m\n\u001b[1;32m     22\u001b[0m   \u001b[0;32mfor\u001b[0m \u001b[0m_\u001b[0m \u001b[0;32min\u001b[0m \u001b[0mtqdm\u001b[0m\u001b[0;34m(\u001b[0m\u001b[0mrange\u001b[0m\u001b[0;34m(\u001b[0m\u001b[0mnum_iterations\u001b[0m\u001b[0;34m)\u001b[0m\u001b[0;34m)\u001b[0m\u001b[0;34m:\u001b[0m\u001b[0;34m\u001b[0m\u001b[0;34m\u001b[0m\u001b[0m\n\u001b[1;32m     23\u001b[0m     \u001b[0mtrajectories\u001b[0m\u001b[0;34m,\u001b[0m \u001b[0m_\u001b[0m \u001b[0;34m=\u001b[0m \u001b[0mnext\u001b[0m\u001b[0;34m(\u001b[0m\u001b[0miterator\u001b[0m\u001b[0;34m)\u001b[0m\u001b[0;34m\u001b[0m\u001b[0;34m\u001b[0m\u001b[0m\n\u001b[0;32m---> 24\u001b[0;31m     \u001b[0mloss\u001b[0m \u001b[0;34m=\u001b[0m \u001b[0msac_dis_agent\u001b[0m\u001b[0;34m.\u001b[0m\u001b[0mtrain\u001b[0m\u001b[0;34m(\u001b[0m\u001b[0mexperience\u001b[0m\u001b[0;34m=\u001b[0m\u001b[0mtrajectories\u001b[0m\u001b[0;34m)\u001b[0m\u001b[0;34m\u001b[0m\u001b[0;34m\u001b[0m\u001b[0m\n\u001b[0m\u001b[1;32m     25\u001b[0m \u001b[0;34m\u001b[0m\u001b[0m\n\u001b[1;32m     26\u001b[0m   \u001b[0mprint\u001b[0m\u001b[0;34m(\u001b[0m\u001b[0;34m'\\nTraining loss: '\u001b[0m\u001b[0;34m,\u001b[0m \u001b[0mloss\u001b[0m\u001b[0;34m.\u001b[0m\u001b[0mloss\u001b[0m\u001b[0;34m.\u001b[0m\u001b[0mnumpy\u001b[0m\u001b[0;34m(\u001b[0m\u001b[0;34m)\u001b[0m\u001b[0;34m)\u001b[0m\u001b[0;34m\u001b[0m\u001b[0;34m\u001b[0m\u001b[0m\n",
      "\u001b[0;32m/usr/local/lib/python3.6/dist-packages/tf_agents/agents/tf_agent.py\u001b[0m in \u001b[0;36mtrain\u001b[0;34m(self, experience, weights)\u001b[0m\n\u001b[1;32m    217\u001b[0m \u001b[0;34m\u001b[0m\u001b[0m\n\u001b[1;32m    218\u001b[0m     \u001b[0;32mif\u001b[0m \u001b[0mself\u001b[0m\u001b[0;34m.\u001b[0m\u001b[0m_enable_functions\u001b[0m\u001b[0;34m:\u001b[0m\u001b[0;34m\u001b[0m\u001b[0;34m\u001b[0m\u001b[0m\n\u001b[0;32m--> 219\u001b[0;31m       \u001b[0mloss_info\u001b[0m \u001b[0;34m=\u001b[0m \u001b[0mself\u001b[0m\u001b[0;34m.\u001b[0m\u001b[0m_train_fn\u001b[0m\u001b[0;34m(\u001b[0m\u001b[0mexperience\u001b[0m\u001b[0;34m=\u001b[0m\u001b[0mexperience\u001b[0m\u001b[0;34m,\u001b[0m \u001b[0mweights\u001b[0m\u001b[0;34m=\u001b[0m\u001b[0mweights\u001b[0m\u001b[0;34m)\u001b[0m\u001b[0;34m\u001b[0m\u001b[0;34m\u001b[0m\u001b[0m\n\u001b[0m\u001b[1;32m    220\u001b[0m     \u001b[0;32melse\u001b[0m\u001b[0;34m:\u001b[0m\u001b[0;34m\u001b[0m\u001b[0;34m\u001b[0m\u001b[0m\n\u001b[1;32m    221\u001b[0m       \u001b[0mloss_info\u001b[0m \u001b[0;34m=\u001b[0m \u001b[0mself\u001b[0m\u001b[0;34m.\u001b[0m\u001b[0m_train\u001b[0m\u001b[0;34m(\u001b[0m\u001b[0mexperience\u001b[0m\u001b[0;34m=\u001b[0m\u001b[0mexperience\u001b[0m\u001b[0;34m,\u001b[0m \u001b[0mweights\u001b[0m\u001b[0;34m=\u001b[0m\u001b[0mweights\u001b[0m\u001b[0;34m)\u001b[0m\u001b[0;34m\u001b[0m\u001b[0;34m\u001b[0m\u001b[0m\n",
      "\u001b[0;32m/usr/local/lib/python3.6/dist-packages/tf_agents/utils/common.py\u001b[0m in \u001b[0;36mwith_check_resource_vars\u001b[0;34m(*fn_args, **fn_kwargs)\u001b[0m\n\u001b[1;32m    129\u001b[0m         \u001b[0;31m# We're either in eager mode or in tf.function mode (no in-between); so\u001b[0m\u001b[0;34m\u001b[0m\u001b[0;34m\u001b[0m\u001b[0;34m\u001b[0m\u001b[0m\n\u001b[1;32m    130\u001b[0m         \u001b[0;31m# autodep-like behavior is already expected of fn.\u001b[0m\u001b[0;34m\u001b[0m\u001b[0;34m\u001b[0m\u001b[0;34m\u001b[0m\u001b[0m\n\u001b[0;32m--> 131\u001b[0;31m         \u001b[0;32mreturn\u001b[0m \u001b[0mfn\u001b[0m\u001b[0;34m(\u001b[0m\u001b[0;34m*\u001b[0m\u001b[0mfn_args\u001b[0m\u001b[0;34m,\u001b[0m \u001b[0;34m**\u001b[0m\u001b[0mfn_kwargs\u001b[0m\u001b[0;34m)\u001b[0m\u001b[0;34m\u001b[0m\u001b[0;34m\u001b[0m\u001b[0m\n\u001b[0m\u001b[1;32m    132\u001b[0m       \u001b[0;32mif\u001b[0m \u001b[0;32mnot\u001b[0m \u001b[0mresource_variables_enabled\u001b[0m\u001b[0;34m(\u001b[0m\u001b[0;34m)\u001b[0m\u001b[0;34m:\u001b[0m\u001b[0;34m\u001b[0m\u001b[0;34m\u001b[0m\u001b[0m\n\u001b[1;32m    133\u001b[0m         \u001b[0;32mraise\u001b[0m \u001b[0mRuntimeError\u001b[0m\u001b[0;34m(\u001b[0m\u001b[0mMISSING_RESOURCE_VARIABLES_ERROR\u001b[0m\u001b[0;34m)\u001b[0m\u001b[0;34m\u001b[0m\u001b[0;34m\u001b[0m\u001b[0m\n",
      "\u001b[0;32m<ipython-input-5-38ae41e56dec>\u001b[0m in \u001b[0;36m_train\u001b[0;34m(self, experience, weights)\u001b[0m\n\u001b[1;32m    351\u001b[0m \u001b[0;34m\u001b[0m\u001b[0m\n\u001b[1;32m    352\u001b[0m       \u001b[0mtape\u001b[0m\u001b[0;34m.\u001b[0m\u001b[0mwatch\u001b[0m\u001b[0;34m(\u001b[0m\u001b[0mtrainable_actor_variables\u001b[0m\u001b[0;34m)\u001b[0m\u001b[0;34m\u001b[0m\u001b[0;34m\u001b[0m\u001b[0m\n\u001b[0;32m--> 353\u001b[0;31m       \u001b[0mactor_loss\u001b[0m \u001b[0;34m=\u001b[0m \u001b[0mself\u001b[0m\u001b[0;34m.\u001b[0m\u001b[0mactor_loss\u001b[0m\u001b[0;34m(\u001b[0m\u001b[0mtime_steps\u001b[0m\u001b[0;34m,\u001b[0m \u001b[0mweights\u001b[0m\u001b[0;34m=\u001b[0m\u001b[0mweights\u001b[0m\u001b[0;34m)\u001b[0m\u001b[0;34m\u001b[0m\u001b[0;34m\u001b[0m\u001b[0m\n\u001b[0m\u001b[1;32m    354\u001b[0m     \u001b[0mtf\u001b[0m\u001b[0;34m.\u001b[0m\u001b[0mdebugging\u001b[0m\u001b[0;34m.\u001b[0m\u001b[0mcheck_numerics\u001b[0m\u001b[0;34m(\u001b[0m\u001b[0mactor_loss\u001b[0m\u001b[0;34m,\u001b[0m \u001b[0;34m'Actor loss is inf or nan.'\u001b[0m\u001b[0;34m)\u001b[0m\u001b[0;34m\u001b[0m\u001b[0;34m\u001b[0m\u001b[0m\n\u001b[1;32m    355\u001b[0m     \u001b[0mactor_grads\u001b[0m \u001b[0;34m=\u001b[0m \u001b[0mtape\u001b[0m\u001b[0;34m.\u001b[0m\u001b[0mgradient\u001b[0m\u001b[0;34m(\u001b[0m\u001b[0mactor_loss\u001b[0m\u001b[0;34m,\u001b[0m \u001b[0mtrainable_actor_variables\u001b[0m\u001b[0;34m)\u001b[0m\u001b[0;34m\u001b[0m\u001b[0;34m\u001b[0m\u001b[0m\n",
      "\u001b[0;32m<ipython-input-5-38ae41e56dec>\u001b[0m in \u001b[0;36mactor_loss\u001b[0;34m(self, time_steps, weights)\u001b[0m\n\u001b[1;32m    296\u001b[0m           common.generate_tensor_summaries('entropy_action',\n\u001b[1;32m    297\u001b[0m                                            \u001b[0maction_distribution\u001b[0m\u001b[0;34m.\u001b[0m\u001b[0mentropy\u001b[0m\u001b[0;34m(\u001b[0m\u001b[0;34m)\u001b[0m\u001b[0;34m,\u001b[0m\u001b[0;34m\u001b[0m\u001b[0;34m\u001b[0m\u001b[0m\n\u001b[0;32m--> 298\u001b[0;31m                                            self.train_step_counter)\n\u001b[0m\u001b[1;32m    299\u001b[0m         \u001b[0;32mexcept\u001b[0m \u001b[0mNotImplementedError\u001b[0m\u001b[0;34m:\u001b[0m\u001b[0;34m\u001b[0m\u001b[0;34m\u001b[0m\u001b[0m\n\u001b[1;32m    300\u001b[0m           \u001b[0;32mpass\u001b[0m  \u001b[0;31m# Some distributions do not have an analytic entropy.\u001b[0m\u001b[0;34m\u001b[0m\u001b[0;34m\u001b[0m\u001b[0m\n",
      "\u001b[0;32m/usr/local/lib/python3.6/dist-packages/tf_agents/utils/common.py\u001b[0m in \u001b[0;36mgenerate_tensor_summaries\u001b[0;34m(tag, tensor, step)\u001b[0m\n\u001b[1;32m    827\u001b[0m   \"\"\"\n\u001b[1;32m    828\u001b[0m   \u001b[0;32mwith\u001b[0m \u001b[0mtf\u001b[0m\u001b[0;34m.\u001b[0m\u001b[0mname_scope\u001b[0m\u001b[0;34m(\u001b[0m\u001b[0mtag\u001b[0m\u001b[0;34m)\u001b[0m\u001b[0;34m:\u001b[0m\u001b[0;34m\u001b[0m\u001b[0;34m\u001b[0m\u001b[0m\n\u001b[0;32m--> 829\u001b[0;31m     \u001b[0mtf\u001b[0m\u001b[0;34m.\u001b[0m\u001b[0mcompat\u001b[0m\u001b[0;34m.\u001b[0m\u001b[0mv2\u001b[0m\u001b[0;34m.\u001b[0m\u001b[0msummary\u001b[0m\u001b[0;34m.\u001b[0m\u001b[0mhistogram\u001b[0m\u001b[0;34m(\u001b[0m\u001b[0mname\u001b[0m\u001b[0;34m=\u001b[0m\u001b[0;34m'histogram'\u001b[0m\u001b[0;34m,\u001b[0m \u001b[0mdata\u001b[0m\u001b[0;34m=\u001b[0m\u001b[0mtensor\u001b[0m\u001b[0;34m,\u001b[0m \u001b[0mstep\u001b[0m\u001b[0;34m=\u001b[0m\u001b[0mstep\u001b[0m\u001b[0;34m)\u001b[0m\u001b[0;34m\u001b[0m\u001b[0;34m\u001b[0m\u001b[0m\n\u001b[0m\u001b[1;32m    830\u001b[0m     tf.compat.v2.summary.scalar(\n\u001b[1;32m    831\u001b[0m         name='mean', data=tf.reduce_mean(input_tensor=tensor), step=step)\n",
      "\u001b[0;32m/tensorflow-2.0.0/python3.6/tensorboard/plugins/histogram/summary_v2.py\u001b[0m in \u001b[0;36mhistogram\u001b[0;34m(name, data, step, buckets, description)\u001b[0m\n\u001b[1;32m     77\u001b[0m     \u001b[0mtensor\u001b[0m \u001b[0;34m=\u001b[0m \u001b[0m_buckets\u001b[0m\u001b[0;34m(\u001b[0m\u001b[0mdata\u001b[0m\u001b[0;34m,\u001b[0m \u001b[0mbucket_count\u001b[0m\u001b[0;34m=\u001b[0m\u001b[0mbuckets\u001b[0m\u001b[0;34m)\u001b[0m\u001b[0;34m\u001b[0m\u001b[0;34m\u001b[0m\u001b[0m\n\u001b[1;32m     78\u001b[0m     return tf.summary.write(\n\u001b[0;32m---> 79\u001b[0;31m         tag=tag, tensor=tensor, step=step, metadata=summary_metadata)\n\u001b[0m\u001b[1;32m     80\u001b[0m \u001b[0;34m\u001b[0m\u001b[0m\n\u001b[1;32m     81\u001b[0m \u001b[0;34m\u001b[0m\u001b[0m\n",
      "\u001b[0;32m/tensorflow-2.0.0/python3.6/tensorflow_core/python/ops/summary_ops_v2.py\u001b[0m in \u001b[0;36mwrite\u001b[0;34m(tag, tensor, step, metadata, name)\u001b[0m\n\u001b[1;32m    613\u001b[0m       \u001b[0;31m`\u001b[0m\u001b[0mtf\u001b[0m\u001b[0;34m.\u001b[0m\u001b[0msummary\u001b[0m\u001b[0;34m.\u001b[0m\u001b[0mexperimental\u001b[0m\u001b[0;34m.\u001b[0m\u001b[0mget_step\u001b[0m\u001b[0;34m(\u001b[0m\u001b[0;34m)\u001b[0m\u001b[0;31m`\u001b[0m \u001b[0;32mis\u001b[0m \u001b[0;32mNone\u001b[0m\u001b[0;34m.\u001b[0m\u001b[0;34m\u001b[0m\u001b[0;34m\u001b[0m\u001b[0m\n\u001b[1;32m    614\u001b[0m   \"\"\"\n\u001b[0;32m--> 615\u001b[0;31m   \u001b[0;32mwith\u001b[0m \u001b[0mops\u001b[0m\u001b[0;34m.\u001b[0m\u001b[0mname_scope\u001b[0m\u001b[0;34m(\u001b[0m\u001b[0mname\u001b[0m\u001b[0;34m,\u001b[0m \u001b[0;34m\"write_summary\"\u001b[0m\u001b[0;34m)\u001b[0m \u001b[0;32mas\u001b[0m \u001b[0mscope\u001b[0m\u001b[0;34m:\u001b[0m\u001b[0;34m\u001b[0m\u001b[0;34m\u001b[0m\u001b[0m\n\u001b[0m\u001b[1;32m    616\u001b[0m     \u001b[0;32mif\u001b[0m \u001b[0mcontext\u001b[0m\u001b[0;34m.\u001b[0m\u001b[0mcontext\u001b[0m\u001b[0;34m(\u001b[0m\u001b[0;34m)\u001b[0m\u001b[0;34m.\u001b[0m\u001b[0msummary_writer\u001b[0m \u001b[0;32mis\u001b[0m \u001b[0;32mNone\u001b[0m\u001b[0;34m:\u001b[0m\u001b[0;34m\u001b[0m\u001b[0;34m\u001b[0m\u001b[0m\n\u001b[1;32m    617\u001b[0m       \u001b[0;32mreturn\u001b[0m \u001b[0mconstant_op\u001b[0m\u001b[0;34m.\u001b[0m\u001b[0mconstant\u001b[0m\u001b[0;34m(\u001b[0m\u001b[0;32mFalse\u001b[0m\u001b[0;34m)\u001b[0m\u001b[0;34m\u001b[0m\u001b[0;34m\u001b[0m\u001b[0m\n",
      "\u001b[0;32m/tensorflow-2.0.0/python3.6/tensorflow_core/python/framework/ops.py\u001b[0m in \u001b[0;36m__init__\u001b[0;34m(self, name, default_name, values)\u001b[0m\n\u001b[1;32m   6296\u001b[0m     \u001b[0mself\u001b[0m\u001b[0;34m.\u001b[0m\u001b[0m_default_name\u001b[0m \u001b[0;34m=\u001b[0m \u001b[0mdefault_name\u001b[0m\u001b[0;34m\u001b[0m\u001b[0;34m\u001b[0m\u001b[0m\n\u001b[1;32m   6297\u001b[0m     \u001b[0mself\u001b[0m\u001b[0;34m.\u001b[0m\u001b[0m_values\u001b[0m \u001b[0;34m=\u001b[0m \u001b[0mvalues\u001b[0m\u001b[0;34m\u001b[0m\u001b[0;34m\u001b[0m\u001b[0m\n\u001b[0;32m-> 6298\u001b[0;31m     \u001b[0mself\u001b[0m\u001b[0;34m.\u001b[0m\u001b[0m_ctx\u001b[0m \u001b[0;34m=\u001b[0m \u001b[0mcontext\u001b[0m\u001b[0;34m.\u001b[0m\u001b[0mcontext\u001b[0m\u001b[0;34m(\u001b[0m\u001b[0;34m)\u001b[0m\u001b[0;34m\u001b[0m\u001b[0;34m\u001b[0m\u001b[0m\n\u001b[0m\u001b[1;32m   6299\u001b[0m     \u001b[0mself\u001b[0m\u001b[0;34m.\u001b[0m\u001b[0m_in_eager_mode\u001b[0m \u001b[0;34m=\u001b[0m \u001b[0mself\u001b[0m\u001b[0;34m.\u001b[0m\u001b[0m_ctx\u001b[0m\u001b[0;34m.\u001b[0m\u001b[0mexecuting_eagerly\u001b[0m\u001b[0;34m(\u001b[0m\u001b[0;34m)\u001b[0m\u001b[0;34m\u001b[0m\u001b[0;34m\u001b[0m\u001b[0m\n\u001b[1;32m   6300\u001b[0m     \u001b[0mself\u001b[0m\u001b[0;34m.\u001b[0m\u001b[0m_has_symbolic_input_in_eager\u001b[0m \u001b[0;34m=\u001b[0m \u001b[0;32mFalse\u001b[0m\u001b[0;34m\u001b[0m\u001b[0;34m\u001b[0m\u001b[0m\n",
      "\u001b[0;32m/tensorflow-2.0.0/python3.6/tensorflow_core/python/eager/context.py\u001b[0m in \u001b[0;36mcontext_safe\u001b[0;34m()\u001b[0m\n\u001b[1;32m   1574\u001b[0m \u001b[0;34m\u001b[0m\u001b[0m\n\u001b[1;32m   1575\u001b[0m \u001b[0;34m\u001b[0m\u001b[0m\n\u001b[0;32m-> 1576\u001b[0;31m \u001b[0;32mdef\u001b[0m \u001b[0mcontext_safe\u001b[0m\u001b[0;34m(\u001b[0m\u001b[0;34m)\u001b[0m\u001b[0;34m:\u001b[0m\u001b[0;34m\u001b[0m\u001b[0;34m\u001b[0m\u001b[0m\n\u001b[0m\u001b[1;32m   1577\u001b[0m   \u001b[0;34m\"\"\"Returns current context (or None if one hasn't been initialized).\"\"\"\u001b[0m\u001b[0;34m\u001b[0m\u001b[0;34m\u001b[0m\u001b[0m\n\u001b[1;32m   1578\u001b[0m   \u001b[0;32mreturn\u001b[0m \u001b[0m_context\u001b[0m\u001b[0;34m\u001b[0m\u001b[0;34m\u001b[0m\u001b[0m\n",
      "\u001b[0;31mKeyboardInterrupt\u001b[0m: "
     ]
    }
   ],
   "source": [
    "training_loss = []\n",
    "max_test_score = []\n",
    "\n",
    "with tf.device('/device:GPU:0'):\n",
    "  for i in range(20):\n",
    "    print('Step ', i+1)\n",
    "    collect_training_data()\n",
    "    training_loss.append(train_agent())\n",
    "    max_test_score.append(evaluate_agent())"
   ]
  },
  {
   "cell_type": "markdown",
   "metadata": {
    "colab_type": "text",
    "id": "Lw8jrOZldTqv"
   },
   "source": [
    "### code for plotting"
   ]
  },
  {
   "cell_type": "code",
   "execution_count": 0,
   "metadata": {
    "colab": {},
    "colab_type": "code",
    "id": "h6xW-kz5dV4I"
   },
   "outputs": [],
   "source": [
    "import numpy as np\n",
    "import matplotlib.pyplot as plt\n",
    "import pickle\n",
    "from sklearn.preprocessing import normalize"
   ]
  },
  {
   "cell_type": "markdown",
   "metadata": {
    "colab_type": "text",
    "id": "2sy62cQxdZeS"
   },
   "source": [
    "#### import the lists\n",
    "\n",
    "First get the CartPole data"
   ]
  },
  {
   "cell_type": "code",
   "execution_count": 0,
   "metadata": {
    "colab": {},
    "colab_type": "code",
    "id": "fnxcqXCodeUR"
   },
   "outputs": [],
   "source": [
    "dire = './plot_data'\n",
    "\n",
    "with open(dire + '/' + 'CartPole_training_loss.pkl', 'rb') as f:\n",
    "    ctl = pickle.load(f)\n",
    "with open(dire + '/' + 'CartPole_max_test_score.pkl', 'rb') as f:\n",
    "    cmt = pickle.load(f)\n",
    "with open(dire + '/' + 'DQN-Loss-CrtPole.pkl', 'rb') as f:\n",
    "    dtl = pickle.load(f)\n",
    "with open(dire + '/' + 'DQN-MaxScore-CrtPole.pkl', 'rb') as f:\n",
    "    dmt = pickle.load(f)"
   ]
  },
  {
   "cell_type": "markdown",
   "metadata": {
    "colab_type": "text",
    "id": "hjbPufUkdhEL"
   },
   "source": [
    "Then get the Acrobot"
   ]
  },
  {
   "cell_type": "code",
   "execution_count": 0,
   "metadata": {
    "colab": {},
    "colab_type": "code",
    "id": "099n5og4di5w"
   },
   "outputs": [],
   "source": [
    "with open(dire + '/' + 'Acrobat_training_loss.pkl', 'rb') as f:\n",
    "    ctl_acro = pickle.load(f)\n",
    "with open(dire + '/' + 'Acrobat_max_test_score.pkl', 'rb') as f:\n",
    "    cmt_acro = pickle.load(f)\n",
    "with open(dire + '/' + 'DQN-Loss-Acrobot.pkl', 'rb') as f:\n",
    "    dtl_acro = pickle.load(f)\n",
    "with open(dire + '/' + 'DQN-MaxScore-Acrobot.pkl', 'rb') as f:\n",
    "    dmt_acro = pickle.load(f)"
   ]
  },
  {
   "cell_type": "markdown",
   "metadata": {
    "colab_type": "text",
    "id": "tH7WX4vXdk9A"
   },
   "source": [
    "Now get the Mountain Cart"
   ]
  },
  {
   "cell_type": "code",
   "execution_count": 0,
   "metadata": {
    "colab": {},
    "colab_type": "code",
    "id": "gDL0vy68dkky"
   },
   "outputs": [],
   "source": [
    "with open(dire + '/' + 'MountCar_training_loss.pkl', 'rb') as f:\n",
    "    ctl_mc = pickle.load(f)\n",
    "with open(dire + '/' + 'MountCar_max_test_score.pkl', 'rb') as f:\n",
    "    cmt_mc = pickle.load(f)\n",
    "with open(dire + '/' + 'DQN-Loss-MountainCar.pkl', 'rb') as f:\n",
    "    dtl_mc = pickle.load(f)\n",
    "with open(dire + '/' + 'DQN-MaxScore-MountainCar.pkl', 'rb') as f:\n",
    "    dmt_mc = pickle.load(f)"
   ]
  },
  {
   "cell_type": "code",
   "execution_count": 0,
   "metadata": {
    "colab": {},
    "colab_type": "code",
    "id": "NksyjmGMdm2A"
   },
   "outputs": [],
   "source": [
    "fig, axs = plt.subplots(3,2, figsize=(18, 16))\n",
    "axs[0,0].plot(np.arange(1, 11, step = 1), normalize(np.array(ctl).reshape(-1,1), axis=0).flatten(), c='orange', label = 'SAC-Discrete')\n",
    "axs[0,0].plot(np.arange(1, 11, step = 1), normalize(np.array(dtl).reshape(-1,1), axis=0).flatten(), c='blue', label = 'DQN')\n",
    "axs[0, 0].set_title('Cart Pole Normalized Training Losses')\n",
    "axs[0, 0].set_xlabel('Epoch')\n",
    "axs[0, 0].set_ylabel('Normalized Loss')\n",
    "axs[0,1].plot(np.arange(1, 11, step = 1), cmt, c='orange', label = 'SAC-Discrete')\n",
    "axs[0,1].plot(np.arange(1, 11, step = 1), dmt, c='blue', label = 'DQN')\n",
    "axs[0, 1].set_title('Cart Pole Max Scores')\n",
    "axs[0, 1].set_xlabel('Epoch')\n",
    "axs[0, 1].set_ylabel('Score')\n",
    "axs[1,0].plot(np.arange(1, 11, step = 1), normalize(np.array(ctl_acro).reshape(-1,1), axis=0).flatten(), c='orange', label = 'SAC-Discrete')\n",
    "axs[1,0].plot(np.arange(1, 11, step = 1), normalize(np.array(dtl_acro).reshape(-1,1), axis=0).flatten(), c='blue', label = 'DQN')\n",
    "axs[1, 0].set_title('Acrobot Normalized Training Losses')\n",
    "axs[1, 0].set_xlabel('Epoch')\n",
    "axs[1, 0].set_ylabel('Normalized Loss')\n",
    "axs[1,1].plot(np.arange(1, 11, step = 1), cmt_acro, c='orange', label = 'SAC-Discrete')\n",
    "axs[1,1].plot(np.arange(1, 11, step = 1), dmt_acro, c='blue', label = 'DQN')\n",
    "axs[1, 1].set_title('Acrobot Normalized Max Scores')\n",
    "axs[1, 1].set_xlabel('Epoch')\n",
    "axs[1, 1].set_ylabel('Score')\n",
    "axs[2,0].plot(np.arange(1, 11, step = 1), normalize(np.array(ctl_mc).reshape(-1,1), axis=0).flatten(), c='orange', label = 'SAC-Discrete')\n",
    "axs[2,0].plot(np.arange(1, 11, step = 1), normalize(np.array(dtl_mc).reshape(-1,1), axis=0).flatten(), c='blue', label = 'DQN')\n",
    "axs[2, 0].set_title('Mountain Car Training Losses')\n",
    "axs[2, 0].set_xlabel('Epoch')\n",
    "axs[2, 0].set_ylabel('Normalized Loss')\n",
    "axs[2,1].plot(np.arange(1, 11, step = 1), cmt_mc, c='orange', label = 'SAC-Discrete')\n",
    "axs[2,1].plot(np.arange(1, 11, step = 1), dmt_mc, c='blue', label = 'DQN')\n",
    "axs[2, 1].set_title('Mountain Car Normalized Max Scores')\n",
    "axs[2, 1].set_xlabel('Epoch')\n",
    "axs[2, 1].set_ylabel('Score')\n",
    "\n",
    "for ax in axs.flat:\n",
    "    ax.legend()\n",
    "\n",
    "fig.savefig('result.png', bbox_inches='tight')"
   ]
  },
  {
   "cell_type": "code",
   "execution_count": 0,
   "metadata": {
    "colab": {},
    "colab_type": "code",
    "id": "pN0y7ldKyTyE"
   },
   "outputs": [],
   "source": []
  }
 ],
 "metadata": {
  "accelerator": "GPU",
  "colab": {
   "collapsed_sections": [],
   "machine_shape": "hm",
   "name": "GR5242_Reinforcement_learning.ipynb",
   "provenance": [],
   "toc_visible": true
  },
  "kernelspec": {
   "display_name": "Python 3",
   "language": "python",
   "name": "python3"
  },
  "language_info": {
   "codemirror_mode": {
    "name": "ipython",
    "version": 3
   },
   "file_extension": ".py",
   "mimetype": "text/x-python",
   "name": "python",
   "nbconvert_exporter": "python",
   "pygments_lexer": "ipython3",
   "version": "3.7.4"
  }
 },
 "nbformat": 4,
 "nbformat_minor": 1
}
